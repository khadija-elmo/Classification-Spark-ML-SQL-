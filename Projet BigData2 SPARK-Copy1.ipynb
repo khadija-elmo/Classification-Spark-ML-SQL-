{
 "cells": [
  {
   "cell_type": "markdown",
   "id": "2735ec2c",
   "metadata": {},
   "source": [
    "# EXPLORING OUR DATAFRAME"
   ]
  },
  {
   "cell_type": "code",
   "execution_count": 1,
   "id": "eeeca989",
   "metadata": {},
   "outputs": [],
   "source": [
    "import findspark\n",
    "findspark.init()"
   ]
  },
  {
   "cell_type": "code",
   "execution_count": 3,
   "id": "5174f03d",
   "metadata": {},
   "outputs": [
    {
     "data": {
      "text/html": [
       "\n",
       "            <div>\n",
       "                <p><b>SparkSession - in-memory</b></p>\n",
       "                \n",
       "        <div>\n",
       "            <p><b>SparkContext</b></p>\n",
       "\n",
       "            <p><a href=\"http://heisenberg.mshome.net:4040\">Spark UI</a></p>\n",
       "\n",
       "            <dl>\n",
       "              <dt>Version</dt>\n",
       "                <dd><code>v3.2.0</code></dd>\n",
       "              <dt>Master</dt>\n",
       "                <dd><code>local[*]</code></dd>\n",
       "              <dt>AppName</dt>\n",
       "                <dd><code>pyspark-shell</code></dd>\n",
       "            </dl>\n",
       "        </div>\n",
       "        \n",
       "            </div>\n",
       "        "
      ],
      "text/plain": [
       "<pyspark.sql.session.SparkSession at 0x24409924670>"
      ]
     },
     "execution_count": 3,
     "metadata": {},
     "output_type": "execute_result"
    }
   ],
   "source": [
    "#creer une session Spark\n",
    "from pyspark.sql import SparkSession\n",
    "spark = SparkSession.builder.master(\"local[*]\").getOrCreate()\n",
    "spark.conf.set(\"spark.sql.repl.eagerEval.enabled\", True) # Property used to format output tables better\n",
    "spark"
   ]
  },
  {
   "cell_type": "code",
   "execution_count": 5,
   "id": "e6472414",
   "metadata": {},
   "outputs": [],
   "source": [
    "# Chargement du fichier CSV en une dataframe avec spark.read\n",
    "assurance_df = spark.read.csv(\"assurance.csv\", header=True, inferSchema=True)"
   ]
  },
  {
   "cell_type": "code",
   "execution_count": 6,
   "id": "4b881d29",
   "metadata": {},
   "outputs": [
    {
     "name": "stdout",
     "output_type": "stream",
     "text": [
      "root\n",
      " |-- id: integer (nullable = true)\n",
      " |-- Gender: string (nullable = true)\n",
      " |-- Age: integer (nullable = true)\n",
      " |-- Driving_License: integer (nullable = true)\n",
      " |-- Region_Code: double (nullable = true)\n",
      " |-- Previously_Insured: integer (nullable = true)\n",
      " |-- Vehicle_Age: string (nullable = true)\n",
      " |-- Vehicle_Damage: string (nullable = true)\n",
      " |-- Annual_Premium: double (nullable = true)\n",
      " |-- Policy_Sales_Channel: double (nullable = true)\n",
      " |-- Vintage: integer (nullable = true)\n",
      " |-- Response: integer (nullable = true)\n",
      "\n"
     ]
    }
   ],
   "source": [
    "#Le shema du data frame\n",
    "assurance_df.printSchema()"
   ]
  },
  {
   "cell_type": "code",
   "execution_count": 7,
   "id": "255176d9",
   "metadata": {},
   "outputs": [
    {
     "data": {
      "text/html": [
       "<table border='1'>\n",
       "<tr><th>id</th><th>Gender</th><th>Age</th><th>Driving_License</th><th>Region_Code</th><th>Previously_Insured</th><th>Vehicle_Age</th><th>Vehicle_Damage</th><th>Annual_Premium</th><th>Policy_Sales_Channel</th><th>Vintage</th><th>Response</th></tr>\n",
       "<tr><td>1</td><td>Male</td><td>44</td><td>1</td><td>28.0</td><td>0</td><td>&gt; 2 Years</td><td>Yes</td><td>40454.0</td><td>26.0</td><td>217</td><td>1</td></tr>\n",
       "<tr><td>2</td><td>Male</td><td>76</td><td>1</td><td>3.0</td><td>0</td><td>1-2 Year</td><td>No</td><td>33536.0</td><td>26.0</td><td>183</td><td>0</td></tr>\n",
       "<tr><td>3</td><td>Male</td><td>47</td><td>1</td><td>28.0</td><td>0</td><td>&gt; 2 Years</td><td>Yes</td><td>38294.0</td><td>26.0</td><td>27</td><td>1</td></tr>\n",
       "<tr><td>4</td><td>Male</td><td>21</td><td>1</td><td>11.0</td><td>1</td><td>&lt; 1 Year</td><td>No</td><td>28619.0</td><td>152.0</td><td>203</td><td>0</td></tr>\n",
       "<tr><td>5</td><td>Female</td><td>29</td><td>1</td><td>41.0</td><td>1</td><td>&lt; 1 Year</td><td>No</td><td>27496.0</td><td>152.0</td><td>39</td><td>0</td></tr>\n",
       "</table>\n"
      ],
      "text/plain": [
       "+---+------+---+---------------+-----------+------------------+-----------+--------------+--------------+--------------------+-------+--------+\n",
       "| id|Gender|Age|Driving_License|Region_Code|Previously_Insured|Vehicle_Age|Vehicle_Damage|Annual_Premium|Policy_Sales_Channel|Vintage|Response|\n",
       "+---+------+---+---------------+-----------+------------------+-----------+--------------+--------------+--------------------+-------+--------+\n",
       "|  1|  Male| 44|              1|       28.0|                 0|  > 2 Years|           Yes|       40454.0|                26.0|    217|       1|\n",
       "|  2|  Male| 76|              1|        3.0|                 0|   1-2 Year|            No|       33536.0|                26.0|    183|       0|\n",
       "|  3|  Male| 47|              1|       28.0|                 0|  > 2 Years|           Yes|       38294.0|                26.0|     27|       1|\n",
       "|  4|  Male| 21|              1|       11.0|                 1|   < 1 Year|            No|       28619.0|               152.0|    203|       0|\n",
       "|  5|Female| 29|              1|       41.0|                 1|   < 1 Year|            No|       27496.0|               152.0|     39|       0|\n",
       "+---+------+---+---------------+-----------+------------------+-----------+--------------+--------------+--------------------+-------+--------+"
      ]
     },
     "execution_count": 7,
     "metadata": {},
     "output_type": "execute_result"
    }
   ],
   "source": [
    "#les 5 premiers ligne du dataframe\n",
    "assurance_df.limit(5)"
   ]
  },
  {
   "cell_type": "code",
   "execution_count": 8,
   "id": "c9a70b2b",
   "metadata": {},
   "outputs": [],
   "source": [
    "import seaborn as sns\n",
    "import matplotlib.pyplot as plt"
   ]
  },
  {
   "cell_type": "markdown",
   "id": "de7bf032",
   "metadata": {},
   "source": [
    "### Analyzing Data"
   ]
  },
  {
   "cell_type": "code",
   "execution_count": 9,
   "id": "21cb60d1",
   "metadata": {},
   "outputs": [
    {
     "data": {
      "text/plain": [
       "id                      0\n",
       "Gender                  0\n",
       "Age                     0\n",
       "Driving_License         0\n",
       "Region_Code             0\n",
       "Previously_Insured      0\n",
       "Vehicle_Age             0\n",
       "Vehicle_Damage          0\n",
       "Annual_Premium          0\n",
       "Policy_Sales_Channel    0\n",
       "Vintage                 0\n",
       "Response                0\n",
       "dtype: int64"
      ]
     },
     "execution_count": 9,
     "metadata": {},
     "output_type": "execute_result"
    }
   ],
   "source": [
    "#S'assurer qu'il n'y a pas de valeurs null dans notre data\n",
    "assurance_df_pandas=assurance_df.toPandas()\n",
    "assurance_df_pandas.isnull().sum()"
   ]
  },
  {
   "cell_type": "code",
   "execution_count": 10,
   "id": "b9fcf73a",
   "metadata": {},
   "outputs": [
    {
     "name": "stdout",
     "output_type": "stream",
     "text": [
      "<class 'pandas.core.frame.DataFrame'>\n",
      "RangeIndex: 381109 entries, 0 to 381108\n",
      "Data columns (total 12 columns):\n",
      " #   Column                Non-Null Count   Dtype  \n",
      "---  ------                --------------   -----  \n",
      " 0   id                    381109 non-null  int32  \n",
      " 1   Gender                381109 non-null  object \n",
      " 2   Age                   381109 non-null  int32  \n",
      " 3   Driving_License       381109 non-null  int32  \n",
      " 4   Region_Code           381109 non-null  float64\n",
      " 5   Previously_Insured    381109 non-null  int32  \n",
      " 6   Vehicle_Age           381109 non-null  object \n",
      " 7   Vehicle_Damage        381109 non-null  object \n",
      " 8   Annual_Premium        381109 non-null  float64\n",
      " 9   Policy_Sales_Channel  381109 non-null  float64\n",
      " 10  Vintage               381109 non-null  int32  \n",
      " 11  Response              381109 non-null  int32  \n",
      "dtypes: float64(3), int32(6), object(3)\n",
      "memory usage: 26.2+ MB\n"
     ]
    }
   ],
   "source": [
    "assurance_df_pandas.info()"
   ]
  },
  {
   "cell_type": "code",
   "execution_count": 13,
   "id": "56bdf1f2",
   "metadata": {},
   "outputs": [
    {
     "data": {
      "text/plain": [
       "<AxesSubplot:xlabel='Response', ylabel='count'>"
      ]
     },
     "execution_count": 13,
     "metadata": {},
     "output_type": "execute_result"
    },
    {
     "data": {
      "image/png": "[encoded data removed]",
      "text/plain": [
       "<Figure size 432x288 with 1 Axes>"
      ]
     },
     "metadata": {
      "needs_background": "light"
     },
     "output_type": "display_data"
    }
   ],
   "source": [
    "#Visualisation des valeur de notre colone target \"Response\"\n",
    "sns.countplot(x=\"Response\",data=assurance_df_pandas)"
   ]
  },
  {
   "cell_type": "markdown",
   "id": "3caec75c",
   "metadata": {},
   "source": [
    "Notre data n'est pas equilibré, est il existe plusieurs methodes qui s'occuppe de ce probleme, je cite le Bootsrapping, et le Boosting.   "
   ]
  },
  {
   "cell_type": "code",
   "execution_count": 14,
   "id": "1c417608",
   "metadata": {},
   "outputs": [
    {
     "data": {
      "text/plain": [
       "<AxesSubplot:xlabel='Response', ylabel='count'>"
      ]
     },
     "execution_count": 14,
     "metadata": {},
     "output_type": "execute_result"
    },
    {
     "data": {
      "image/png": "[encoded data removed]",
      "text/plain": [
       "<Figure size 432x288 with 1 Axes>"
      ]
     },
     "metadata": {
      "needs_background": "light"
     },
     "output_type": "display_data"
    }
   ],
   "source": [
    "#Visualisation de la distribution des valeurs de la colone Gender par rapport a Response\n",
    "sns.countplot(x=\"Response\",hue=\"Gender\",data=assurance_df_pandas)"
   ]
  },
  {
   "cell_type": "code",
   "execution_count": 15,
   "id": "4f3344ed",
   "metadata": {},
   "outputs": [
    {
     "data": {
      "text/plain": [
       "<AxesSubplot:xlabel='Response', ylabel='count'>"
      ]
     },
     "execution_count": 15,
     "metadata": {},
     "output_type": "execute_result"
    },
    {
     "data": {
      "image/png": "[encoded data removed]",
      "text/plain": [
       "<Figure size 432x288 with 1 Axes>"
      ]
     },
     "metadata": {
      "needs_background": "light"
     },
     "output_type": "display_data"
    }
   ],
   "source": [
    "#Visualisation de la distribution des valeurs de la colone Vehicule_Damage par rapport a Response\n",
    "sns.countplot(x=\"Response\",hue=\"Vehicle_Damage\",data=assurance_df_pandas)"
   ]
  },
  {
   "cell_type": "code",
   "execution_count": 16,
   "id": "4f209e96",
   "metadata": {},
   "outputs": [
    {
     "data": {
      "text/plain": [
       "<AxesSubplot:xlabel='Response', ylabel='count'>"
      ]
     },
     "execution_count": 16,
     "metadata": {},
     "output_type": "execute_result"
    },
    {
     "data": {
      "image/png": "[encoded data removed]",
      "text/plain": [
       "<Figure size 432x288 with 1 Axes>"
      ]
     },
     "metadata": {
      "needs_background": "light"
     },
     "output_type": "display_data"
    }
   ],
   "source": [
    "#Visualisation de la distribution des valeurs de la colone Previously_Insured par rapport a Response\n",
    "sns.countplot(x=\"Response\",hue=\"Previously_Insured\",data=assurance_df_pandas)"
   ]
  },
  {
   "cell_type": "code",
   "execution_count": 17,
   "id": "89ca88ba",
   "metadata": {},
   "outputs": [
    {
     "data": {
      "text/plain": [
       "<AxesSubplot:xlabel='Response', ylabel='count'>"
      ]
     },
     "execution_count": 17,
     "metadata": {},
     "output_type": "execute_result"
    },
    {
     "data": {
      "image/png": "[encoded data removed]",
      "text/plain": [
       "<Figure size 432x288 with 1 Axes>"
      ]
     },
     "metadata": {
      "needs_background": "light"
     },
     "output_type": "display_data"
    }
   ],
   "source": [
    "#Visualisation de la distribution des valeurs de la colone Vehicle_Age par rapport a Response\n",
    "sns.countplot(x=\"Response\",hue=\"Vehicle_Age\",data=assurance_df_pandas)"
   ]
  },
  {
   "cell_type": "code",
   "execution_count": 2,
   "id": "3ba126a3",
   "metadata": {},
   "outputs": [
    {
     "ename": "NameError",
     "evalue": "name 'sns' is not defined",
     "output_type": "error",
     "traceback": [
      "\u001b[1;31m---------------------------------------------------------------------------\u001b[0m",
      "\u001b[1;31mNameError\u001b[0m                                 Traceback (most recent call last)",
      "\u001b[1;32m<ipython-input-2-eb65ed69348d>\u001b[0m in \u001b[0;36m<module>\u001b[1;34m\u001b[0m\n\u001b[1;32m----> 1\u001b[1;33m \u001b[0msns\u001b[0m\u001b[1;33m.\u001b[0m\u001b[0mcountplot\u001b[0m\u001b[1;33m(\u001b[0m\u001b[0mx\u001b[0m\u001b[1;33m=\u001b[0m\u001b[1;34m\"Response\"\u001b[0m\u001b[1;33m,\u001b[0m\u001b[0mhue\u001b[0m\u001b[1;33m=\u001b[0m\u001b[1;34m\"Driving_License\"\u001b[0m\u001b[1;33m,\u001b[0m\u001b[0mdata\u001b[0m\u001b[1;33m=\u001b[0m\u001b[0massurance_df_pandas\u001b[0m\u001b[1;33m)\u001b[0m\u001b[1;33m\u001b[0m\u001b[1;33m\u001b[0m\u001b[0m\n\u001b[0m",
      "\u001b[1;31mNameError\u001b[0m: name 'sns' is not defined"
     ]
    }
   ],
   "source": [
    "#Visualisation de la distribution des valeurs de la colone Driving_License par rapport a Response\n",
    "sns.countplot(x=\"Response\",hue=\"Driving_License\",data=assurance_df_pandas)"
   ]
  },
  {
   "cell_type": "markdown",
   "id": "d496a7ab",
   "metadata": {},
   "source": [
    "## the Spark SQL quary "
   ]
  },
  {
   "cell_type": "code",
   "execution_count": 11,
   "id": "422579a4",
   "metadata": {},
   "outputs": [],
   "source": [
    "# Enregistrez le DataFrame en tant que vue temporaire SQL \"assDF\"\n",
    "assurance_df.createOrReplaceTempView(\"assDF\")\n"
   ]
  },
  {
   "cell_type": "code",
   "execution_count": 12,
   "id": "f854d575",
   "metadata": {},
   "outputs": [
    {
     "data": {
      "text/html": [
       "<table border='1'>\n",
       "<tr><th>count(1)</th></tr>\n",
       "<tr><td>380297</td></tr>\n",
       "</table>\n"
      ],
      "text/plain": [
       "+--------+\n",
       "|count(1)|\n",
       "+--------+\n",
       "|  380297|\n",
       "+--------+"
      ]
     },
     "execution_count": 12,
     "metadata": {},
     "output_type": "execute_result"
    }
   ],
   "source": [
    "#Affichage de nombre des utilisateurs ayant un permis de conduire \n",
    "Driving_License_number=spark.sql(\"select count(*)  from assDF where Driving_License=1\")\n",
    "Driving_License_number"
   ]
  },
  {
   "cell_type": "code",
   "execution_count": 13,
   "id": "efbd32ea",
   "metadata": {},
   "outputs": [
    {
     "data": {
      "text/html": [
       "<table border='1'>\n",
       "<tr><th>count(1)</th></tr>\n",
       "<tr><td>812</td></tr>\n",
       "</table>\n"
      ],
      "text/plain": [
       "+--------+\n",
       "|count(1)|\n",
       "+--------+\n",
       "|     812|\n",
       "+--------+"
      ]
     },
     "execution_count": 13,
     "metadata": {},
     "output_type": "execute_result"
    }
   ],
   "source": [
    "#Affichage de combien des utilisateurs qui n'ont pas de permis\n",
    "NODriving_License_number=spark.sql(\"select count(*)  from assDF where Driving_License=0\")\n",
    "NODriving_License_number"
   ]
  },
  {
   "cell_type": "code",
   "execution_count": 14,
   "id": "27ab8e8e",
   "metadata": {},
   "outputs": [
    {
     "data": {
      "text/html": [
       "<table border='1'>\n",
       "<tr><th>count(1)</th></tr>\n",
       "<tr><td>46710</td></tr>\n",
       "</table>\n"
      ],
      "text/plain": [
       "+--------+\n",
       "|count(1)|\n",
       "+--------+\n",
       "|   46710|\n",
       "+--------+"
      ]
     },
     "execution_count": 14,
     "metadata": {},
     "output_type": "execute_result"
    }
   ],
   "source": [
    "#l'affichage du nombre des utilisateurs qui ont recu une reponse d'acceptation du dossier d'assurance\n",
    "RESPONE1=spark.sql(\"select count(*)  from assDF where Response=1\")\n",
    "RESPONE1"
   ]
  },
  {
   "cell_type": "code",
   "execution_count": 15,
   "id": "4a2ad4e3",
   "metadata": {},
   "outputs": [
    {
     "data": {
      "text/html": [
       "<table border='1'>\n",
       "<tr><th>count(1)</th></tr>\n",
       "<tr><td>334399</td></tr>\n",
       "</table>\n"
      ],
      "text/plain": [
       "+--------+\n",
       "|count(1)|\n",
       "+--------+\n",
       "|  334399|\n",
       "+--------+"
      ]
     },
     "execution_count": 15,
     "metadata": {},
     "output_type": "execute_result"
    }
   ],
   "source": [
    "RESPONE0=spark.sql(\"select count(*)  from assDF where Response=0\")\n",
    "RESPONE0"
   ]
  },
  {
   "cell_type": "code",
   "execution_count": 16,
   "id": "ef924b66",
   "metadata": {},
   "outputs": [
    {
     "data": {
      "text/html": [
       "<table border='1'>\n",
       "<tr><th>count(1)</th></tr>\n",
       "<tr><td>381109</td></tr>\n",
       "</table>\n"
      ],
      "text/plain": [
       "+--------+\n",
       "|count(1)|\n",
       "+--------+\n",
       "|  381109|\n",
       "+--------+"
      ]
     },
     "execution_count": 16,
     "metadata": {},
     "output_type": "execute_result"
    }
   ],
   "source": [
    "line_number=spark.sql(\"select count(*)  from assDF\")\n",
    "line_number"
   ]
  },
  {
   "cell_type": "code",
   "execution_count": 17,
   "id": "fb29450b",
   "metadata": {},
   "outputs": [
    {
     "name": "stdout",
     "output_type": "stream",
     "text": [
      "the number of insured women is :\n",
      "+--------+\n",
      "|count(1)|\n",
      "+--------+\n",
      "|   87949|\n",
      "+--------+\n",
      "\n"
     ]
    }
   ],
   "source": [
    "#question1\n",
    "Women_insured = spark.sql(\"select count(*)  from assDF where Previously_Insured=1 and Gender = 'Female' \")\n",
    "print(\"the number of insured women is :\")\n",
    "Women_insured.show()"
   ]
  },
  {
   "cell_type": "code",
   "execution_count": 18,
   "id": "fff5664c",
   "metadata": {},
   "outputs": [
    {
     "name": "stdout",
     "output_type": "stream",
     "text": [
      "number of women having vehicles over 2 years old\n"
     ]
    },
    {
     "data": {
      "text/html": [
       "<table border='1'>\n",
       "<tr><th>count(1)</th></tr>\n",
       "<tr><td>5707</td></tr>\n",
       "</table>\n"
      ],
      "text/plain": [
       "+--------+\n",
       "|count(1)|\n",
       "+--------+\n",
       "|    5707|\n",
       "+--------+"
      ]
     },
     "execution_count": 18,
     "metadata": {},
     "output_type": "execute_result"
    }
   ],
   "source": [
    "two_years_cars=spark.sql(\"select count(*)  from assDF where Vehicle_Age='> 2 Years' and Gender = 'Female' \")\n",
    "print(\"number of women having vehicles over 2 years old\")\n",
    "two_years_cars"
   ]
  },
  {
   "cell_type": "code",
   "execution_count": 19,
   "id": "46b69a57",
   "metadata": {},
   "outputs": [
    {
     "name": "stdout",
     "output_type": "stream",
     "text": [
      "Mean Value of the the annual premium for Men with damage vehicle \n"
     ]
    },
    {
     "data": {
      "text/html": [
       "<table border='1'>\n",
       "<tr><th>count(1)</th></tr>\n",
       "<tr><td>5707</td></tr>\n",
       "</table>\n"
      ],
      "text/plain": [
       "DataFrame[count(1): bigint]"
      ]
     },
     "execution_count": 19,
     "metadata": {},
     "output_type": "execute_result"
    }
   ],
   "source": [
    "mean_Annual_Premium=spark.sql(\"select AVG(Annual_Premium)  from assDF where Vehicle_Damage='Yes' and Gender = 'Male' \")\n",
    "print(\"Mean Value of the the annual premium for Men with damage vehicle \")\n",
    "two_years_cars"
   ]
  },
  {
   "cell_type": "code",
   "execution_count": 20,
   "id": "0db9a151",
   "metadata": {},
   "outputs": [
    {
     "data": {
      "text/html": [
       "<table border='1'>\n",
       "<tr><th>id</th><th>Gender</th><th>Age</th><th>Vehicle_Age</th><th>Annual_Premium</th><th>Response</th></tr>\n",
       "<tr><td>1</td><td>Male</td><td>44</td><td>&gt; 2 Years</td><td>40454.0</td><td>1</td></tr>\n",
       "<tr><td>2</td><td>Male</td><td>76</td><td>1-2 Year</td><td>33536.0</td><td>0</td></tr>\n",
       "<tr><td>3</td><td>Male</td><td>47</td><td>&gt; 2 Years</td><td>38294.0</td><td>1</td></tr>\n",
       "<tr><td>4</td><td>Male</td><td>21</td><td>&lt; 1 Year</td><td>28619.0</td><td>0</td></tr>\n",
       "<tr><td>5</td><td>Female</td><td>29</td><td>&lt; 1 Year</td><td>27496.0</td><td>0</td></tr>\n",
       "<tr><td>6</td><td>Female</td><td>24</td><td>&lt; 1 Year</td><td>2630.0</td><td>0</td></tr>\n",
       "<tr><td>7</td><td>Male</td><td>23</td><td>&lt; 1 Year</td><td>23367.0</td><td>0</td></tr>\n",
       "<tr><td>8</td><td>Female</td><td>56</td><td>1-2 Year</td><td>32031.0</td><td>1</td></tr>\n",
       "<tr><td>9</td><td>Female</td><td>24</td><td>&lt; 1 Year</td><td>27619.0</td><td>0</td></tr>\n",
       "<tr><td>10</td><td>Female</td><td>32</td><td>&lt; 1 Year</td><td>28771.0</td><td>0</td></tr>\n",
       "<tr><td>11</td><td>Female</td><td>47</td><td>1-2 Year</td><td>47576.0</td><td>1</td></tr>\n",
       "<tr><td>12</td><td>Female</td><td>24</td><td>&lt; 1 Year</td><td>48699.0</td><td>0</td></tr>\n",
       "<tr><td>13</td><td>Female</td><td>41</td><td>1-2 Year</td><td>31409.0</td><td>0</td></tr>\n",
       "<tr><td>14</td><td>Male</td><td>76</td><td>1-2 Year</td><td>36770.0</td><td>0</td></tr>\n",
       "<tr><td>15</td><td>Male</td><td>71</td><td>1-2 Year</td><td>46818.0</td><td>0</td></tr>\n",
       "<tr><td>16</td><td>Male</td><td>37</td><td>1-2 Year</td><td>2630.0</td><td>1</td></tr>\n",
       "<tr><td>17</td><td>Female</td><td>25</td><td>&lt; 1 Year</td><td>26218.0</td><td>0</td></tr>\n",
       "<tr><td>18</td><td>Female</td><td>25</td><td>&lt; 1 Year</td><td>46622.0</td><td>0</td></tr>\n",
       "<tr><td>19</td><td>Male</td><td>42</td><td>1-2 Year</td><td>33667.0</td><td>0</td></tr>\n",
       "<tr><td>20</td><td>Female</td><td>60</td><td>1-2 Year</td><td>32363.0</td><td>1</td></tr>\n",
       "</table>\n",
       "only showing top 20 rows\n"
      ],
      "text/plain": [
       "+---+------+---+-----------+--------------+--------+\n",
       "| id|Gender|Age|Vehicle_Age|Annual_Premium|Response|\n",
       "+---+------+---+-----------+--------------+--------+\n",
       "|  1|  Male| 44|  > 2 Years|       40454.0|       1|\n",
       "|  2|  Male| 76|   1-2 Year|       33536.0|       0|\n",
       "|  3|  Male| 47|  > 2 Years|       38294.0|       1|\n",
       "|  4|  Male| 21|   < 1 Year|       28619.0|       0|\n",
       "|  5|Female| 29|   < 1 Year|       27496.0|       0|\n",
       "|  6|Female| 24|   < 1 Year|        2630.0|       0|\n",
       "|  7|  Male| 23|   < 1 Year|       23367.0|       0|\n",
       "|  8|Female| 56|   1-2 Year|       32031.0|       1|\n",
       "|  9|Female| 24|   < 1 Year|       27619.0|       0|\n",
       "| 10|Female| 32|   < 1 Year|       28771.0|       0|\n",
       "| 11|Female| 47|   1-2 Year|       47576.0|       1|\n",
       "| 12|Female| 24|   < 1 Year|       48699.0|       0|\n",
       "| 13|Female| 41|   1-2 Year|       31409.0|       0|\n",
       "| 14|  Male| 76|   1-2 Year|       36770.0|       0|\n",
       "| 15|  Male| 71|   1-2 Year|       46818.0|       0|\n",
       "| 16|  Male| 37|   1-2 Year|        2630.0|       1|\n",
       "| 17|Female| 25|   < 1 Year|       26218.0|       0|\n",
       "| 18|Female| 25|   < 1 Year|       46622.0|       0|\n",
       "| 19|  Male| 42|   1-2 Year|       33667.0|       0|\n",
       "| 20|Female| 60|   1-2 Year|       32363.0|       1|\n",
       "+---+------+---+-----------+--------------+--------+\n",
       "only showing top 20 rows"
      ]
     },
     "execution_count": 20,
     "metadata": {},
     "output_type": "execute_result"
    }
   ],
   "source": [
    "newDF=spark.sql(\"\"\"select id , Gender, Age , Vehicle_Age , Annual_Premium , Response \n",
    "                    from assDF  \"\"\")\n",
    "newDF"
   ]
  },
  {
   "cell_type": "code",
   "execution_count": 29,
   "id": "679d27ab",
   "metadata": {},
   "outputs": [
    {
     "data": {
      "text/plain": [
       "MapPartitionsRDD[148] at toJavaRDD at NativeMethodAccessorImpl.java:0"
      ]
     },
     "execution_count": 29,
     "metadata": {},
     "output_type": "execute_result"
    }
   ],
   "source": [
    "#first methode of conversion to JSON with pyspark \n",
    "dfJson=newDF.toJSON()\n",
    "dfJson"
   ]
  },
  {
   "cell_type": "markdown",
   "id": "81f10f5e",
   "metadata": {},
   "source": [
    "# PREPROCESSING"
   ]
  },
  {
   "cell_type": "code",
   "execution_count": 31,
   "id": "e1282e95",
   "metadata": {},
   "outputs": [
    {
     "data": {
      "text/html": [
       "<table border='1'>\n",
       "<tr><th>Vehicle_Damage</th></tr>\n",
       "<tr><td>No</td></tr>\n",
       "<tr><td>Yes</td></tr>\n",
       "</table>\n"
      ],
      "text/plain": [
       "+--------------+\n",
       "|Vehicle_Damage|\n",
       "+--------------+\n",
       "|            No|\n",
       "|           Yes|\n",
       "+--------------+"
      ]
     },
     "execution_count": 31,
     "metadata": {},
     "output_type": "execute_result"
    }
   ],
   "source": [
    "#for making sure that there only two values in this column(Yes/No)\n",
    "VDamageValues=spark.sql(\"select DISTINCT Vehicle_Damage   from assDF\")\n",
    "VDamageValues"
   ]
  },
  {
   "cell_type": "code",
   "execution_count": 32,
   "id": "b457133b",
   "metadata": {},
   "outputs": [],
   "source": [
    "#it will add a column named Vehicle_Damage01 and it will fill it with 1 if the condition is true and 0 if not.\n",
    "def Convert_Veh_Dam(df):\n",
    "    df1=df.withColumn(\"Vehicle_Damage01\", (df[\"Vehicle_Damage\"]=='Yes').cast(\"int\"))\n",
    "    df2=df1.drop('Vehicle_Damage') \n",
    "    return df2\n",
    "    "
   ]
  },
  {
   "cell_type": "code",
   "execution_count": 33,
   "id": "fbc02810",
   "metadata": {},
   "outputs": [],
   "source": [
    "DF_Veh_Dam=Convert_Veh_Dam(assurance_df)"
   ]
  },
  {
   "cell_type": "code",
   "execution_count": 34,
   "id": "d52ecaa2",
   "metadata": {},
   "outputs": [
    {
     "data": {
      "text/html": [
       "<table border='1'>\n",
       "<tr><th>id</th><th>Gender</th><th>Age</th><th>Driving_License</th><th>Region_Code</th><th>Previously_Insured</th><th>Vehicle_Age</th><th>Annual_Premium</th><th>Policy_Sales_Channel</th><th>Vintage</th><th>Response</th><th>Vehicle_Damage01</th></tr>\n",
       "<tr><td>1</td><td>Male</td><td>44</td><td>1</td><td>28.0</td><td>0</td><td>&gt; 2 Years</td><td>40454.0</td><td>26.0</td><td>217</td><td>1</td><td>1</td></tr>\n",
       "<tr><td>2</td><td>Male</td><td>76</td><td>1</td><td>3.0</td><td>0</td><td>1-2 Year</td><td>33536.0</td><td>26.0</td><td>183</td><td>0</td><td>0</td></tr>\n",
       "<tr><td>3</td><td>Male</td><td>47</td><td>1</td><td>28.0</td><td>0</td><td>&gt; 2 Years</td><td>38294.0</td><td>26.0</td><td>27</td><td>1</td><td>1</td></tr>\n",
       "<tr><td>4</td><td>Male</td><td>21</td><td>1</td><td>11.0</td><td>1</td><td>&lt; 1 Year</td><td>28619.0</td><td>152.0</td><td>203</td><td>0</td><td>0</td></tr>\n",
       "<tr><td>5</td><td>Female</td><td>29</td><td>1</td><td>41.0</td><td>1</td><td>&lt; 1 Year</td><td>27496.0</td><td>152.0</td><td>39</td><td>0</td><td>0</td></tr>\n",
       "<tr><td>6</td><td>Female</td><td>24</td><td>1</td><td>33.0</td><td>0</td><td>&lt; 1 Year</td><td>2630.0</td><td>160.0</td><td>176</td><td>0</td><td>1</td></tr>\n",
       "<tr><td>7</td><td>Male</td><td>23</td><td>1</td><td>11.0</td><td>0</td><td>&lt; 1 Year</td><td>23367.0</td><td>152.0</td><td>249</td><td>0</td><td>1</td></tr>\n",
       "<tr><td>8</td><td>Female</td><td>56</td><td>1</td><td>28.0</td><td>0</td><td>1-2 Year</td><td>32031.0</td><td>26.0</td><td>72</td><td>1</td><td>1</td></tr>\n",
       "<tr><td>9</td><td>Female</td><td>24</td><td>1</td><td>3.0</td><td>1</td><td>&lt; 1 Year</td><td>27619.0</td><td>152.0</td><td>28</td><td>0</td><td>0</td></tr>\n",
       "<tr><td>10</td><td>Female</td><td>32</td><td>1</td><td>6.0</td><td>1</td><td>&lt; 1 Year</td><td>28771.0</td><td>152.0</td><td>80</td><td>0</td><td>0</td></tr>\n",
       "<tr><td>11</td><td>Female</td><td>47</td><td>1</td><td>35.0</td><td>0</td><td>1-2 Year</td><td>47576.0</td><td>124.0</td><td>46</td><td>1</td><td>1</td></tr>\n",
       "<tr><td>12</td><td>Female</td><td>24</td><td>1</td><td>50.0</td><td>1</td><td>&lt; 1 Year</td><td>48699.0</td><td>152.0</td><td>289</td><td>0</td><td>0</td></tr>\n",
       "<tr><td>13</td><td>Female</td><td>41</td><td>1</td><td>15.0</td><td>1</td><td>1-2 Year</td><td>31409.0</td><td>14.0</td><td>221</td><td>0</td><td>0</td></tr>\n",
       "<tr><td>14</td><td>Male</td><td>76</td><td>1</td><td>28.0</td><td>0</td><td>1-2 Year</td><td>36770.0</td><td>13.0</td><td>15</td><td>0</td><td>1</td></tr>\n",
       "<tr><td>15</td><td>Male</td><td>71</td><td>1</td><td>28.0</td><td>1</td><td>1-2 Year</td><td>46818.0</td><td>30.0</td><td>58</td><td>0</td><td>0</td></tr>\n",
       "<tr><td>16</td><td>Male</td><td>37</td><td>1</td><td>6.0</td><td>0</td><td>1-2 Year</td><td>2630.0</td><td>156.0</td><td>147</td><td>1</td><td>1</td></tr>\n",
       "<tr><td>17</td><td>Female</td><td>25</td><td>1</td><td>45.0</td><td>0</td><td>&lt; 1 Year</td><td>26218.0</td><td>160.0</td><td>256</td><td>0</td><td>1</td></tr>\n",
       "<tr><td>18</td><td>Female</td><td>25</td><td>1</td><td>35.0</td><td>1</td><td>&lt; 1 Year</td><td>46622.0</td><td>152.0</td><td>299</td><td>0</td><td>0</td></tr>\n",
       "<tr><td>19</td><td>Male</td><td>42</td><td>1</td><td>28.0</td><td>0</td><td>1-2 Year</td><td>33667.0</td><td>124.0</td><td>158</td><td>0</td><td>1</td></tr>\n",
       "<tr><td>20</td><td>Female</td><td>60</td><td>1</td><td>33.0</td><td>0</td><td>1-2 Year</td><td>32363.0</td><td>124.0</td><td>102</td><td>1</td><td>1</td></tr>\n",
       "</table>\n",
       "only showing top 20 rows\n"
      ],
      "text/plain": [
       "+---+------+---+---------------+-----------+------------------+-----------+--------------+--------------------+-------+--------+----------------+\n",
       "| id|Gender|Age|Driving_License|Region_Code|Previously_Insured|Vehicle_Age|Annual_Premium|Policy_Sales_Channel|Vintage|Response|Vehicle_Damage01|\n",
       "+---+------+---+---------------+-----------+------------------+-----------+--------------+--------------------+-------+--------+----------------+\n",
       "|  1|  Male| 44|              1|       28.0|                 0|  > 2 Years|       40454.0|                26.0|    217|       1|               1|\n",
       "|  2|  Male| 76|              1|        3.0|                 0|   1-2 Year|       33536.0|                26.0|    183|       0|               0|\n",
       "|  3|  Male| 47|              1|       28.0|                 0|  > 2 Years|       38294.0|                26.0|     27|       1|               1|\n",
       "|  4|  Male| 21|              1|       11.0|                 1|   < 1 Year|       28619.0|               152.0|    203|       0|               0|\n",
       "|  5|Female| 29|              1|       41.0|                 1|   < 1 Year|       27496.0|               152.0|     39|       0|               0|\n",
       "|  6|Female| 24|              1|       33.0|                 0|   < 1 Year|        2630.0|               160.0|    176|       0|               1|\n",
       "|  7|  Male| 23|              1|       11.0|                 0|   < 1 Year|       23367.0|               152.0|    249|       0|               1|\n",
       "|  8|Female| 56|              1|       28.0|                 0|   1-2 Year|       32031.0|                26.0|     72|       1|               1|\n",
       "|  9|Female| 24|              1|        3.0|                 1|   < 1 Year|       27619.0|               152.0|     28|       0|               0|\n",
       "| 10|Female| 32|              1|        6.0|                 1|   < 1 Year|       28771.0|               152.0|     80|       0|               0|\n",
       "| 11|Female| 47|              1|       35.0|                 0|   1-2 Year|       47576.0|               124.0|     46|       1|               1|\n",
       "| 12|Female| 24|              1|       50.0|                 1|   < 1 Year|       48699.0|               152.0|    289|       0|               0|\n",
       "| 13|Female| 41|              1|       15.0|                 1|   1-2 Year|       31409.0|                14.0|    221|       0|               0|\n",
       "| 14|  Male| 76|              1|       28.0|                 0|   1-2 Year|       36770.0|                13.0|     15|       0|               1|\n",
       "| 15|  Male| 71|              1|       28.0|                 1|   1-2 Year|       46818.0|                30.0|     58|       0|               0|\n",
       "| 16|  Male| 37|              1|        6.0|                 0|   1-2 Year|        2630.0|               156.0|    147|       1|               1|\n",
       "| 17|Female| 25|              1|       45.0|                 0|   < 1 Year|       26218.0|               160.0|    256|       0|               1|\n",
       "| 18|Female| 25|              1|       35.0|                 1|   < 1 Year|       46622.0|               152.0|    299|       0|               0|\n",
       "| 19|  Male| 42|              1|       28.0|                 0|   1-2 Year|       33667.0|               124.0|    158|       0|               1|\n",
       "| 20|Female| 60|              1|       33.0|                 0|   1-2 Year|       32363.0|               124.0|    102|       1|               1|\n",
       "+---+------+---+---------------+-----------+------------------+-----------+--------------+--------------------+-------+--------+----------------+\n",
       "only showing top 20 rows"
      ]
     },
     "execution_count": 34,
     "metadata": {},
     "output_type": "execute_result"
    }
   ],
   "source": [
    "DF_Veh_Dam"
   ]
  },
  {
   "cell_type": "code",
   "execution_count": 35,
   "id": "e83d4d06",
   "metadata": {},
   "outputs": [],
   "source": [
    "from pyspark.sql.functions import udf\n",
    "Convert_Veh_DamUDF = udf(lambda z: Convert_Veh_Dam(z))"
   ]
  },
  {
   "cell_type": "code",
   "execution_count": 36,
   "id": "05345866",
   "metadata": {},
   "outputs": [
    {
     "data": {
      "text/html": [
       "<table border='1'>\n",
       "<tr><th>Vehicle_Age</th></tr>\n",
       "<tr><td>&gt; 2 Years</td></tr>\n",
       "<tr><td>&lt; 1 Year</td></tr>\n",
       "<tr><td>1-2 Year</td></tr>\n",
       "</table>\n"
      ],
      "text/plain": [
       "+-----------+\n",
       "|Vehicle_Age|\n",
       "+-----------+\n",
       "|  > 2 Years|\n",
       "|   < 1 Year|\n",
       "|   1-2 Year|\n",
       "+-----------+"
      ]
     },
     "execution_count": 36,
     "metadata": {},
     "output_type": "execute_result"
    }
   ],
   "source": [
    "ageValues=spark.sql(\"select DISTINCT Vehicle_Age   from assDF\")\n",
    "ageValues"
   ]
  },
  {
   "cell_type": "code",
   "execution_count": 37,
   "id": "9dee4ee6",
   "metadata": {},
   "outputs": [],
   "source": [
    "def Convert_Veh_Age(df):\n",
    "    df1=df.withColumn(\"Vehicle_Age< 1 Year\", (df[\"Vehicle_Age\"]=='< 1 Year').cast(\"int\"))\n",
    "    df2=df1.withColumn(\"Vehicle_Age1-2 Year\", (df[\"Vehicle_Age\"]=='1-2 Year').cast(\"int\"))\n",
    "    df3=df2.withColumn(\"Vehicle_Age> 2 Years\", (df[\"Vehicle_Age\"]=='> 2 Years').cast(\"int\"))  \n",
    "    df4=df3.drop('Vehicle_Age')\n",
    "    return df4"
   ]
  },
  {
   "cell_type": "code",
   "execution_count": 38,
   "id": "59bb97c4",
   "metadata": {},
   "outputs": [],
   "source": [
    "DF_Veh_Age=Convert_Veh_Age(DF_Veh_Dam)\n"
   ]
  },
  {
   "cell_type": "code",
   "execution_count": 39,
   "id": "655e7486",
   "metadata": {},
   "outputs": [
    {
     "data": {
      "text/html": [
       "<table border='1'>\n",
       "<tr><th>id</th><th>Gender</th><th>Age</th><th>Driving_License</th><th>Region_Code</th><th>Previously_Insured</th><th>Annual_Premium</th><th>Policy_Sales_Channel</th><th>Vintage</th><th>Response</th><th>Vehicle_Damage01</th><th>Vehicle_Age&lt; 1 Year</th><th>Vehicle_Age1-2 Year</th><th>Vehicle_Age&gt; 2 Years</th></tr>\n",
       "<tr><td>1</td><td>Male</td><td>44</td><td>1</td><td>28.0</td><td>0</td><td>40454.0</td><td>26.0</td><td>217</td><td>1</td><td>1</td><td>0</td><td>0</td><td>1</td></tr>\n",
       "<tr><td>2</td><td>Male</td><td>76</td><td>1</td><td>3.0</td><td>0</td><td>33536.0</td><td>26.0</td><td>183</td><td>0</td><td>0</td><td>0</td><td>1</td><td>0</td></tr>\n",
       "<tr><td>3</td><td>Male</td><td>47</td><td>1</td><td>28.0</td><td>0</td><td>38294.0</td><td>26.0</td><td>27</td><td>1</td><td>1</td><td>0</td><td>0</td><td>1</td></tr>\n",
       "<tr><td>4</td><td>Male</td><td>21</td><td>1</td><td>11.0</td><td>1</td><td>28619.0</td><td>152.0</td><td>203</td><td>0</td><td>0</td><td>1</td><td>0</td><td>0</td></tr>\n",
       "<tr><td>5</td><td>Female</td><td>29</td><td>1</td><td>41.0</td><td>1</td><td>27496.0</td><td>152.0</td><td>39</td><td>0</td><td>0</td><td>1</td><td>0</td><td>0</td></tr>\n",
       "<tr><td>6</td><td>Female</td><td>24</td><td>1</td><td>33.0</td><td>0</td><td>2630.0</td><td>160.0</td><td>176</td><td>0</td><td>1</td><td>1</td><td>0</td><td>0</td></tr>\n",
       "<tr><td>7</td><td>Male</td><td>23</td><td>1</td><td>11.0</td><td>0</td><td>23367.0</td><td>152.0</td><td>249</td><td>0</td><td>1</td><td>1</td><td>0</td><td>0</td></tr>\n",
       "<tr><td>8</td><td>Female</td><td>56</td><td>1</td><td>28.0</td><td>0</td><td>32031.0</td><td>26.0</td><td>72</td><td>1</td><td>1</td><td>0</td><td>1</td><td>0</td></tr>\n",
       "<tr><td>9</td><td>Female</td><td>24</td><td>1</td><td>3.0</td><td>1</td><td>27619.0</td><td>152.0</td><td>28</td><td>0</td><td>0</td><td>1</td><td>0</td><td>0</td></tr>\n",
       "<tr><td>10</td><td>Female</td><td>32</td><td>1</td><td>6.0</td><td>1</td><td>28771.0</td><td>152.0</td><td>80</td><td>0</td><td>0</td><td>1</td><td>0</td><td>0</td></tr>\n",
       "<tr><td>11</td><td>Female</td><td>47</td><td>1</td><td>35.0</td><td>0</td><td>47576.0</td><td>124.0</td><td>46</td><td>1</td><td>1</td><td>0</td><td>1</td><td>0</td></tr>\n",
       "<tr><td>12</td><td>Female</td><td>24</td><td>1</td><td>50.0</td><td>1</td><td>48699.0</td><td>152.0</td><td>289</td><td>0</td><td>0</td><td>1</td><td>0</td><td>0</td></tr>\n",
       "<tr><td>13</td><td>Female</td><td>41</td><td>1</td><td>15.0</td><td>1</td><td>31409.0</td><td>14.0</td><td>221</td><td>0</td><td>0</td><td>0</td><td>1</td><td>0</td></tr>\n",
       "<tr><td>14</td><td>Male</td><td>76</td><td>1</td><td>28.0</td><td>0</td><td>36770.0</td><td>13.0</td><td>15</td><td>0</td><td>1</td><td>0</td><td>1</td><td>0</td></tr>\n",
       "<tr><td>15</td><td>Male</td><td>71</td><td>1</td><td>28.0</td><td>1</td><td>46818.0</td><td>30.0</td><td>58</td><td>0</td><td>0</td><td>0</td><td>1</td><td>0</td></tr>\n",
       "<tr><td>16</td><td>Male</td><td>37</td><td>1</td><td>6.0</td><td>0</td><td>2630.0</td><td>156.0</td><td>147</td><td>1</td><td>1</td><td>0</td><td>1</td><td>0</td></tr>\n",
       "<tr><td>17</td><td>Female</td><td>25</td><td>1</td><td>45.0</td><td>0</td><td>26218.0</td><td>160.0</td><td>256</td><td>0</td><td>1</td><td>1</td><td>0</td><td>0</td></tr>\n",
       "<tr><td>18</td><td>Female</td><td>25</td><td>1</td><td>35.0</td><td>1</td><td>46622.0</td><td>152.0</td><td>299</td><td>0</td><td>0</td><td>1</td><td>0</td><td>0</td></tr>\n",
       "<tr><td>19</td><td>Male</td><td>42</td><td>1</td><td>28.0</td><td>0</td><td>33667.0</td><td>124.0</td><td>158</td><td>0</td><td>1</td><td>0</td><td>1</td><td>0</td></tr>\n",
       "<tr><td>20</td><td>Female</td><td>60</td><td>1</td><td>33.0</td><td>0</td><td>32363.0</td><td>124.0</td><td>102</td><td>1</td><td>1</td><td>0</td><td>1</td><td>0</td></tr>\n",
       "</table>\n",
       "only showing top 20 rows\n"
      ],
      "text/plain": [
       "+---+------+---+---------------+-----------+------------------+--------------+--------------------+-------+--------+----------------+-------------------+-------------------+--------------------+\n",
       "| id|Gender|Age|Driving_License|Region_Code|Previously_Insured|Annual_Premium|Policy_Sales_Channel|Vintage|Response|Vehicle_Damage01|Vehicle_Age< 1 Year|Vehicle_Age1-2 Year|Vehicle_Age> 2 Years|\n",
       "+---+------+---+---------------+-----------+------------------+--------------+--------------------+-------+--------+----------------+-------------------+-------------------+--------------------+\n",
       "|  1|  Male| 44|              1|       28.0|                 0|       40454.0|                26.0|    217|       1|               1|                  0|                  0|                   1|\n",
       "|  2|  Male| 76|              1|        3.0|                 0|       33536.0|                26.0|    183|       0|               0|                  0|                  1|                   0|\n",
       "|  3|  Male| 47|              1|       28.0|                 0|       38294.0|                26.0|     27|       1|               1|                  0|                  0|                   1|\n",
       "|  4|  Male| 21|              1|       11.0|                 1|       28619.0|               152.0|    203|       0|               0|                  1|                  0|                   0|\n",
       "|  5|Female| 29|              1|       41.0|                 1|       27496.0|               152.0|     39|       0|               0|                  1|                  0|                   0|\n",
       "|  6|Female| 24|              1|       33.0|                 0|        2630.0|               160.0|    176|       0|               1|                  1|                  0|                   0|\n",
       "|  7|  Male| 23|              1|       11.0|                 0|       23367.0|               152.0|    249|       0|               1|                  1|                  0|                   0|\n",
       "|  8|Female| 56|              1|       28.0|                 0|       32031.0|                26.0|     72|       1|               1|                  0|                  1|                   0|\n",
       "|  9|Female| 24|              1|        3.0|                 1|       27619.0|               152.0|     28|       0|               0|                  1|                  0|                   0|\n",
       "| 10|Female| 32|              1|        6.0|                 1|       28771.0|               152.0|     80|       0|               0|                  1|                  0|                   0|\n",
       "| 11|Female| 47|              1|       35.0|                 0|       47576.0|               124.0|     46|       1|               1|                  0|                  1|                   0|\n",
       "| 12|Female| 24|              1|       50.0|                 1|       48699.0|               152.0|    289|       0|               0|                  1|                  0|                   0|\n",
       "| 13|Female| 41|              1|       15.0|                 1|       31409.0|                14.0|    221|       0|               0|                  0|                  1|                   0|\n",
       "| 14|  Male| 76|              1|       28.0|                 0|       36770.0|                13.0|     15|       0|               1|                  0|                  1|                   0|\n",
       "| 15|  Male| 71|              1|       28.0|                 1|       46818.0|                30.0|     58|       0|               0|                  0|                  1|                   0|\n",
       "| 16|  Male| 37|              1|        6.0|                 0|        2630.0|               156.0|    147|       1|               1|                  0|                  1|                   0|\n",
       "| 17|Female| 25|              1|       45.0|                 0|       26218.0|               160.0|    256|       0|               1|                  1|                  0|                   0|\n",
       "| 18|Female| 25|              1|       35.0|                 1|       46622.0|               152.0|    299|       0|               0|                  1|                  0|                   0|\n",
       "| 19|  Male| 42|              1|       28.0|                 0|       33667.0|               124.0|    158|       0|               1|                  0|                  1|                   0|\n",
       "| 20|Female| 60|              1|       33.0|                 0|       32363.0|               124.0|    102|       1|               1|                  0|                  1|                   0|\n",
       "+---+------+---+---------------+-----------+------------------+--------------+--------------------+-------+--------+----------------+-------------------+-------------------+--------------------+\n",
       "only showing top 20 rows"
      ]
     },
     "execution_count": 39,
     "metadata": {},
     "output_type": "execute_result"
    }
   ],
   "source": [
    "DF_Veh_Age"
   ]
  },
  {
   "cell_type": "code",
   "execution_count": 40,
   "id": "d2bb5ece",
   "metadata": {},
   "outputs": [],
   "source": [
    "from pyspark.sql.functions import udf\n",
    "Convert_Veh_AgeUDF = udf(lambda z: Convert_Veh_Age(z))"
   ]
  },
  {
   "cell_type": "code",
   "execution_count": 41,
   "id": "4917658b",
   "metadata": {},
   "outputs": [],
   "source": [
    "def Convert_Gender(df):\n",
    "    df1=df.withColumn(\"Female\", (df[\"Gender\"]=='Female').cast(\"int\"))\n",
    "    df2=df1.withColumn(\"Male\", (df[\"Gender\"]=='Male').cast(\"int\"))\n",
    "    df3=df2.drop('Gender') \n",
    "    return df3"
   ]
  },
  {
   "cell_type": "code",
   "execution_count": 42,
   "id": "fb4d0f4b",
   "metadata": {},
   "outputs": [],
   "source": [
    "DF_Gender=Convert_Gender(DF_Veh_Age)\n"
   ]
  },
  {
   "cell_type": "code",
   "execution_count": 43,
   "id": "7ed8ada7",
   "metadata": {},
   "outputs": [
    {
     "data": {
      "text/html": [
       "<table border='1'>\n",
       "<tr><th>id</th><th>Age</th><th>Driving_License</th><th>Region_Code</th><th>Previously_Insured</th><th>Annual_Premium</th><th>Policy_Sales_Channel</th><th>Vintage</th><th>Response</th><th>Vehicle_Damage01</th><th>Vehicle_Age&lt; 1 Year</th><th>Vehicle_Age1-2 Year</th><th>Vehicle_Age&gt; 2 Years</th><th>Female</th><th>Male</th></tr>\n",
       "<tr><td>1</td><td>44</td><td>1</td><td>28.0</td><td>0</td><td>40454.0</td><td>26.0</td><td>217</td><td>1</td><td>1</td><td>0</td><td>0</td><td>1</td><td>0</td><td>1</td></tr>\n",
       "<tr><td>2</td><td>76</td><td>1</td><td>3.0</td><td>0</td><td>33536.0</td><td>26.0</td><td>183</td><td>0</td><td>0</td><td>0</td><td>1</td><td>0</td><td>0</td><td>1</td></tr>\n",
       "<tr><td>3</td><td>47</td><td>1</td><td>28.0</td><td>0</td><td>38294.0</td><td>26.0</td><td>27</td><td>1</td><td>1</td><td>0</td><td>0</td><td>1</td><td>0</td><td>1</td></tr>\n",
       "<tr><td>4</td><td>21</td><td>1</td><td>11.0</td><td>1</td><td>28619.0</td><td>152.0</td><td>203</td><td>0</td><td>0</td><td>1</td><td>0</td><td>0</td><td>0</td><td>1</td></tr>\n",
       "<tr><td>5</td><td>29</td><td>1</td><td>41.0</td><td>1</td><td>27496.0</td><td>152.0</td><td>39</td><td>0</td><td>0</td><td>1</td><td>0</td><td>0</td><td>1</td><td>0</td></tr>\n",
       "<tr><td>6</td><td>24</td><td>1</td><td>33.0</td><td>0</td><td>2630.0</td><td>160.0</td><td>176</td><td>0</td><td>1</td><td>1</td><td>0</td><td>0</td><td>1</td><td>0</td></tr>\n",
       "<tr><td>7</td><td>23</td><td>1</td><td>11.0</td><td>0</td><td>23367.0</td><td>152.0</td><td>249</td><td>0</td><td>1</td><td>1</td><td>0</td><td>0</td><td>0</td><td>1</td></tr>\n",
       "<tr><td>8</td><td>56</td><td>1</td><td>28.0</td><td>0</td><td>32031.0</td><td>26.0</td><td>72</td><td>1</td><td>1</td><td>0</td><td>1</td><td>0</td><td>1</td><td>0</td></tr>\n",
       "<tr><td>9</td><td>24</td><td>1</td><td>3.0</td><td>1</td><td>27619.0</td><td>152.0</td><td>28</td><td>0</td><td>0</td><td>1</td><td>0</td><td>0</td><td>1</td><td>0</td></tr>\n",
       "<tr><td>10</td><td>32</td><td>1</td><td>6.0</td><td>1</td><td>28771.0</td><td>152.0</td><td>80</td><td>0</td><td>0</td><td>1</td><td>0</td><td>0</td><td>1</td><td>0</td></tr>\n",
       "<tr><td>11</td><td>47</td><td>1</td><td>35.0</td><td>0</td><td>47576.0</td><td>124.0</td><td>46</td><td>1</td><td>1</td><td>0</td><td>1</td><td>0</td><td>1</td><td>0</td></tr>\n",
       "<tr><td>12</td><td>24</td><td>1</td><td>50.0</td><td>1</td><td>48699.0</td><td>152.0</td><td>289</td><td>0</td><td>0</td><td>1</td><td>0</td><td>0</td><td>1</td><td>0</td></tr>\n",
       "<tr><td>13</td><td>41</td><td>1</td><td>15.0</td><td>1</td><td>31409.0</td><td>14.0</td><td>221</td><td>0</td><td>0</td><td>0</td><td>1</td><td>0</td><td>1</td><td>0</td></tr>\n",
       "<tr><td>14</td><td>76</td><td>1</td><td>28.0</td><td>0</td><td>36770.0</td><td>13.0</td><td>15</td><td>0</td><td>1</td><td>0</td><td>1</td><td>0</td><td>0</td><td>1</td></tr>\n",
       "<tr><td>15</td><td>71</td><td>1</td><td>28.0</td><td>1</td><td>46818.0</td><td>30.0</td><td>58</td><td>0</td><td>0</td><td>0</td><td>1</td><td>0</td><td>0</td><td>1</td></tr>\n",
       "<tr><td>16</td><td>37</td><td>1</td><td>6.0</td><td>0</td><td>2630.0</td><td>156.0</td><td>147</td><td>1</td><td>1</td><td>0</td><td>1</td><td>0</td><td>0</td><td>1</td></tr>\n",
       "<tr><td>17</td><td>25</td><td>1</td><td>45.0</td><td>0</td><td>26218.0</td><td>160.0</td><td>256</td><td>0</td><td>1</td><td>1</td><td>0</td><td>0</td><td>1</td><td>0</td></tr>\n",
       "<tr><td>18</td><td>25</td><td>1</td><td>35.0</td><td>1</td><td>46622.0</td><td>152.0</td><td>299</td><td>0</td><td>0</td><td>1</td><td>0</td><td>0</td><td>1</td><td>0</td></tr>\n",
       "<tr><td>19</td><td>42</td><td>1</td><td>28.0</td><td>0</td><td>33667.0</td><td>124.0</td><td>158</td><td>0</td><td>1</td><td>0</td><td>1</td><td>0</td><td>0</td><td>1</td></tr>\n",
       "<tr><td>20</td><td>60</td><td>1</td><td>33.0</td><td>0</td><td>32363.0</td><td>124.0</td><td>102</td><td>1</td><td>1</td><td>0</td><td>1</td><td>0</td><td>1</td><td>0</td></tr>\n",
       "</table>\n",
       "only showing top 20 rows\n"
      ],
      "text/plain": [
       "+---+---+---------------+-----------+------------------+--------------+--------------------+-------+--------+----------------+-------------------+-------------------+--------------------+------+----+\n",
       "| id|Age|Driving_License|Region_Code|Previously_Insured|Annual_Premium|Policy_Sales_Channel|Vintage|Response|Vehicle_Damage01|Vehicle_Age< 1 Year|Vehicle_Age1-2 Year|Vehicle_Age> 2 Years|Female|Male|\n",
       "+---+---+---------------+-----------+------------------+--------------+--------------------+-------+--------+----------------+-------------------+-------------------+--------------------+------+----+\n",
       "|  1| 44|              1|       28.0|                 0|       40454.0|                26.0|    217|       1|               1|                  0|                  0|                   1|     0|   1|\n",
       "|  2| 76|              1|        3.0|                 0|       33536.0|                26.0|    183|       0|               0|                  0|                  1|                   0|     0|   1|\n",
       "|  3| 47|              1|       28.0|                 0|       38294.0|                26.0|     27|       1|               1|                  0|                  0|                   1|     0|   1|\n",
       "|  4| 21|              1|       11.0|                 1|       28619.0|               152.0|    203|       0|               0|                  1|                  0|                   0|     0|   1|\n",
       "|  5| 29|              1|       41.0|                 1|       27496.0|               152.0|     39|       0|               0|                  1|                  0|                   0|     1|   0|\n",
       "|  6| 24|              1|       33.0|                 0|        2630.0|               160.0|    176|       0|               1|                  1|                  0|                   0|     1|   0|\n",
       "|  7| 23|              1|       11.0|                 0|       23367.0|               152.0|    249|       0|               1|                  1|                  0|                   0|     0|   1|\n",
       "|  8| 56|              1|       28.0|                 0|       32031.0|                26.0|     72|       1|               1|                  0|                  1|                   0|     1|   0|\n",
       "|  9| 24|              1|        3.0|                 1|       27619.0|               152.0|     28|       0|               0|                  1|                  0|                   0|     1|   0|\n",
       "| 10| 32|              1|        6.0|                 1|       28771.0|               152.0|     80|       0|               0|                  1|                  0|                   0|     1|   0|\n",
       "| 11| 47|              1|       35.0|                 0|       47576.0|               124.0|     46|       1|               1|                  0|                  1|                   0|     1|   0|\n",
       "| 12| 24|              1|       50.0|                 1|       48699.0|               152.0|    289|       0|               0|                  1|                  0|                   0|     1|   0|\n",
       "| 13| 41|              1|       15.0|                 1|       31409.0|                14.0|    221|       0|               0|                  0|                  1|                   0|     1|   0|\n",
       "| 14| 76|              1|       28.0|                 0|       36770.0|                13.0|     15|       0|               1|                  0|                  1|                   0|     0|   1|\n",
       "| 15| 71|              1|       28.0|                 1|       46818.0|                30.0|     58|       0|               0|                  0|                  1|                   0|     0|   1|\n",
       "| 16| 37|              1|        6.0|                 0|        2630.0|               156.0|    147|       1|               1|                  0|                  1|                   0|     0|   1|\n",
       "| 17| 25|              1|       45.0|                 0|       26218.0|               160.0|    256|       0|               1|                  1|                  0|                   0|     1|   0|\n",
       "| 18| 25|              1|       35.0|                 1|       46622.0|               152.0|    299|       0|               0|                  1|                  0|                   0|     1|   0|\n",
       "| 19| 42|              1|       28.0|                 0|       33667.0|               124.0|    158|       0|               1|                  0|                  1|                   0|     0|   1|\n",
       "| 20| 60|              1|       33.0|                 0|       32363.0|               124.0|    102|       1|               1|                  0|                  1|                   0|     1|   0|\n",
       "+---+---+---------------+-----------+------------------+--------------+--------------------+-------+--------+----------------+-------------------+-------------------+--------------------+------+----+\n",
       "only showing top 20 rows"
      ]
     },
     "execution_count": 43,
     "metadata": {},
     "output_type": "execute_result"
    }
   ],
   "source": [
    "DF_Gender"
   ]
  },
  {
   "cell_type": "code",
   "execution_count": 44,
   "id": "acc5ee4a",
   "metadata": {},
   "outputs": [],
   "source": [
    "from pyspark.sql.functions import udf\n",
    "Convert_GenderUDF = udf(lambda z: Convert_Gender(z))"
   ]
  },
  {
   "cell_type": "code",
   "execution_count": 45,
   "id": "7dcde082",
   "metadata": {},
   "outputs": [],
   "source": [
    "numerical_DF=DF_Gender"
   ]
  },
  {
   "cell_type": "code",
   "execution_count": 46,
   "id": "835df6e2",
   "metadata": {},
   "outputs": [
    {
     "data": {
      "text/html": [
       "<style  type=\"text/css\" >\n",
       "#T_33063_row0_col0,#T_33063_row1_col1,#T_33063_row2_col2,#T_33063_row3_col3,#T_33063_row4_col4,#T_33063_row5_col5,#T_33063_row6_col6,#T_33063_row7_col7,#T_33063_row8_col8,#T_33063_row9_col9,#T_33063_row10_col10,#T_33063_row11_col11,#T_33063_row12_col12,#T_33063_row13_col13,#T_33063_row14_col14{\n",
       "            background-color:  #ffff00;\n",
       "            color:  #000000;\n",
       "        }#T_33063_row0_col1,#T_33063_row0_col4,#T_33063_row3_col9,#T_33063_row7_col4,#T_33063_row9_col13{\n",
       "            background-color:  #ac1847;\n",
       "            color:  #f1f1f1;\n",
       "        }#T_33063_row0_col2,#T_33063_row3_col2,#T_33063_row6_col12,#T_33063_row7_col2{\n",
       "            background-color:  #3e005c;\n",
       "            color:  #f1f1f1;\n",
       "        }#T_33063_row0_col3,#T_33063_row4_col3,#T_33063_row7_col3,#T_33063_row14_col3{\n",
       "            background-color:  #2d0032;\n",
       "            color:  #f1f1f1;\n",
       "        }#T_33063_row0_col5,#T_33063_row7_col5{\n",
       "            background-color:  #6701db;\n",
       "            color:  #f1f1f1;\n",
       "        }#T_33063_row0_col6,#T_33063_row7_col6,#T_33063_row14_col10{\n",
       "            background-color:  #a00fa0;\n",
       "            color:  #f1f1f1;\n",
       "        }#T_33063_row0_col7,#T_33063_row1_col0,#T_33063_row1_col2,#T_33063_row1_col6,#T_33063_row1_col7,#T_33063_row2_col0,#T_33063_row2_col7,#T_33063_row3_col0,#T_33063_row3_col7,#T_33063_row4_col8,#T_33063_row4_col9,#T_33063_row5_col3,#T_33063_row5_col7,#T_33063_row6_col0,#T_33063_row6_col5,#T_33063_row6_col7,#T_33063_row7_col0,#T_33063_row8_col0,#T_33063_row8_col7,#T_33063_row9_col0,#T_33063_row9_col4,#T_33063_row9_col7,#T_33063_row10_col0,#T_33063_row10_col1,#T_33063_row10_col11,#T_33063_row11_col0,#T_33063_row11_col7,#T_33063_row11_col10,#T_33063_row11_col12,#T_33063_row12_col0,#T_33063_row12_col7,#T_33063_row13_col0,#T_33063_row13_col14,#T_33063_row14_col0,#T_33063_row14_col7,#T_33063_row14_col13{\n",
       "            background-color:  #000000;\n",
       "            color:  #f1f1f1;\n",
       "        }#T_33063_row0_col8,#T_33063_row7_col8{\n",
       "            background-color:  #8004ff;\n",
       "            color:  #f1f1f1;\n",
       "        }#T_33063_row0_col9,#T_33063_row3_col4,#T_33063_row7_col1,#T_33063_row7_col9{\n",
       "            background-color:  #ab174d;\n",
       "            color:  #f1f1f1;\n",
       "        }#T_33063_row0_col10,#T_33063_row0_col11,#T_33063_row7_col10,#T_33063_row7_col11,#T_33063_row12_col13{\n",
       "            background-color:  #b01c22;\n",
       "            color:  #f1f1f1;\n",
       "        }#T_33063_row0_col12,#T_33063_row3_col12,#T_33063_row7_col12,#T_33063_row14_col5{\n",
       "            background-color:  #6c01e7;\n",
       "            color:  #f1f1f1;\n",
       "        }#T_33063_row0_col13,#T_33063_row2_col10,#T_33063_row3_col14,#T_33063_row5_col11,#T_33063_row7_col14,#T_33063_row13_col4{\n",
       "            background-color:  #b42003;\n",
       "            color:  #f1f1f1;\n",
       "        }#T_33063_row0_col14,#T_33063_row3_col13,#T_33063_row7_col13,#T_33063_row14_col9{\n",
       "            background-color:  #b52000;\n",
       "            color:  #f1f1f1;\n",
       "        }#T_33063_row1_col3,#T_33063_row5_col2,#T_33063_row11_col3{\n",
       "            background-color:  #37004a;\n",
       "            color:  #f1f1f1;\n",
       "        }#T_33063_row1_col4,#T_33063_row4_col1{\n",
       "            background-color:  #8d07ef;\n",
       "            color:  #f1f1f1;\n",
       "        }#T_33063_row1_col5,#T_33063_row5_col12,#T_33063_row10_col9{\n",
       "            background-color:  #7f04ff;\n",
       "            color:  #f1f1f1;\n",
       "        }#T_33063_row1_col8{\n",
       "            background-color:  #990cc4;\n",
       "            color:  #f1f1f1;\n",
       "        }#T_33063_row1_col9,#T_33063_row9_col1{\n",
       "            background-color:  #c63800;\n",
       "            color:  #f1f1f1;\n",
       "        }#T_33063_row1_col10,#T_33063_row9_col2,#T_33063_row14_col2{\n",
       "            background-color:  #350044;\n",
       "            color:  #f1f1f1;\n",
       "        }#T_33063_row1_col11{\n",
       "            background-color:  #eda600;\n",
       "            color:  #000000;\n",
       "        }#T_33063_row1_col12{\n",
       "            background-color:  #980cc8;\n",
       "            color:  #f1f1f1;\n",
       "        }#T_33063_row1_col13,#T_33063_row2_col1,#T_33063_row2_col6{\n",
       "            background-color:  #a5137b;\n",
       "            color:  #f1f1f1;\n",
       "        }#T_33063_row1_col14{\n",
       "            background-color:  #c23200;\n",
       "            color:  #f1f1f1;\n",
       "        }#T_33063_row2_col3,#T_33063_row8_col3,#T_33063_row12_col3,#T_33063_row13_col3{\n",
       "            background-color:  #300038;\n",
       "            color:  #f1f1f1;\n",
       "        }#T_33063_row2_col4,#T_33063_row2_col11,#T_33063_row3_col1,#T_33063_row4_col14{\n",
       "            background-color:  #ad1941;\n",
       "            color:  #f1f1f1;\n",
       "        }#T_33063_row2_col5{\n",
       "            background-color:  #6401d1;\n",
       "            color:  #f1f1f1;\n",
       "        }#T_33063_row2_col8,#T_33063_row8_col4{\n",
       "            background-color:  #8305fe;\n",
       "            color:  #f1f1f1;\n",
       "        }#T_33063_row2_col9,#T_33063_row5_col10{\n",
       "            background-color:  #aa1659;\n",
       "            color:  #f1f1f1;\n",
       "        }#T_33063_row2_col12{\n",
       "            background-color:  #6a01e1;\n",
       "            color:  #f1f1f1;\n",
       "        }#T_33063_row2_col13,#T_33063_row5_col1,#T_33063_row5_col14{\n",
       "            background-color:  #b62200;\n",
       "            color:  #f1f1f1;\n",
       "        }#T_33063_row2_col14,#T_33063_row5_col13{\n",
       "            background-color:  #b31e10;\n",
       "            color:  #f1f1f1;\n",
       "        }#T_33063_row3_col5{\n",
       "            background-color:  #5d01be;\n",
       "            color:  #f1f1f1;\n",
       "        }#T_33063_row3_col6,#T_33063_row12_col10{\n",
       "            background-color:  #9e0ea9;\n",
       "            color:  #f1f1f1;\n",
       "        }#T_33063_row3_col8{\n",
       "            background-color:  #8104ff;\n",
       "            color:  #f1f1f1;\n",
       "        }#T_33063_row3_col10{\n",
       "            background-color:  #af1b2f;\n",
       "            color:  #f1f1f1;\n",
       "        }#T_33063_row3_col11{\n",
       "            background-color:  #b21d16;\n",
       "            color:  #f1f1f1;\n",
       "        }#T_33063_row4_col0,#T_33063_row4_col7,#T_33063_row5_col0,#T_33063_row10_col7,#T_33063_row13_col7{\n",
       "            background-color:  #100006;\n",
       "            color:  #f1f1f1;\n",
       "        }#T_33063_row4_col2,#T_33063_row13_col2{\n",
       "            background-color:  #460073;\n",
       "            color:  #f1f1f1;\n",
       "        }#T_33063_row4_col5{\n",
       "            background-color:  #5e01c2;\n",
       "            color:  #f1f1f1;\n",
       "        }#T_33063_row4_col6,#T_33063_row12_col14{\n",
       "            background-color:  #b82400;\n",
       "            color:  #f1f1f1;\n",
       "        }#T_33063_row4_col10{\n",
       "            background-color:  #d04c00;\n",
       "            color:  #f1f1f1;\n",
       "        }#T_33063_row4_col11,#T_33063_row12_col8{\n",
       "            background-color:  #9309dd;\n",
       "            color:  #f1f1f1;\n",
       "        }#T_33063_row4_col12,#T_33063_row11_col2{\n",
       "            background-color:  #270026;\n",
       "            color:  #f1f1f1;\n",
       "        }#T_33063_row4_col13,#T_33063_row14_col1{\n",
       "            background-color:  #bc2800;\n",
       "            color:  #f1f1f1;\n",
       "        }#T_33063_row5_col4{\n",
       "            background-color:  #a81565;\n",
       "            color:  #f1f1f1;\n",
       "        }#T_33063_row5_col6,#T_33063_row8_col12{\n",
       "            background-color:  #8505fd;\n",
       "            color:  #f1f1f1;\n",
       "        }#T_33063_row5_col8{\n",
       "            background-color:  #8706fb;\n",
       "            color:  #f1f1f1;\n",
       "        }#T_33063_row5_col9,#T_33063_row8_col13{\n",
       "            background-color:  #b01b29;\n",
       "            color:  #f1f1f1;\n",
       "        }#T_33063_row6_col1,#T_33063_row10_col2,#T_33063_row10_col8{\n",
       "            background-color:  #500093;\n",
       "            color:  #f1f1f1;\n",
       "        }#T_33063_row6_col2{\n",
       "            background-color:  #510098;\n",
       "            color:  #f1f1f1;\n",
       "        }#T_33063_row6_col3,#T_33063_row10_col3{\n",
       "            background-color:  #24001f;\n",
       "            color:  #f1f1f1;\n",
       "        }#T_33063_row6_col4,#T_33063_row8_col11,#T_33063_row12_col9,#T_33063_row13_col10{\n",
       "            background-color:  #c02e00;\n",
       "            color:  #f1f1f1;\n",
       "        }#T_33063_row6_col8,#T_33063_row13_col5{\n",
       "            background-color:  #6201cd;\n",
       "            color:  #f1f1f1;\n",
       "        }#T_33063_row6_col9{\n",
       "            background-color:  #940ada;\n",
       "            color:  #f1f1f1;\n",
       "        }#T_33063_row6_col10{\n",
       "            background-color:  #e58400;\n",
       "            color:  #000000;\n",
       "        }#T_33063_row6_col11{\n",
       "            background-color:  #6f02ec;\n",
       "            color:  #f1f1f1;\n",
       "        }#T_33063_row6_col13{\n",
       "            background-color:  #bf2d00;\n",
       "            color:  #f1f1f1;\n",
       "        }#T_33063_row6_col14{\n",
       "            background-color:  #a9165f;\n",
       "            color:  #f1f1f1;\n",
       "        }#T_33063_row8_col1{\n",
       "            background-color:  #ba2700;\n",
       "            color:  #f1f1f1;\n",
       "        }#T_33063_row8_col2{\n",
       "            background-color:  #44006d;\n",
       "            color:  #f1f1f1;\n",
       "        }#T_33063_row8_col5{\n",
       "            background-color:  #7002ee;\n",
       "            color:  #f1f1f1;\n",
       "        }#T_33063_row8_col6{\n",
       "            background-color:  #8e08ed;\n",
       "            color:  #f1f1f1;\n",
       "        }#T_33063_row8_col9{\n",
       "            background-color:  #cd4500;\n",
       "            color:  #f1f1f1;\n",
       "        }#T_33063_row8_col10,#T_33063_row13_col1{\n",
       "            background-color:  #9b0dbb;\n",
       "            color:  #f1f1f1;\n",
       "        }#T_33063_row8_col14{\n",
       "            background-color:  #b92500;\n",
       "            color:  #f1f1f1;\n",
       "        }#T_33063_row9_col3{\n",
       "            background-color:  #32003e;\n",
       "            color:  #f1f1f1;\n",
       "        }#T_33063_row9_col5{\n",
       "            background-color:  #7202f3;\n",
       "            color:  #f1f1f1;\n",
       "        }#T_33063_row9_col6{\n",
       "            background-color:  #8405fe;\n",
       "            color:  #f1f1f1;\n",
       "        }#T_33063_row9_col8{\n",
       "            background-color:  #b72300;\n",
       "            color:  #f1f1f1;\n",
       "        }#T_33063_row9_col10{\n",
       "            background-color:  #8806f8;\n",
       "            color:  #f1f1f1;\n",
       "        }#T_33063_row9_col11{\n",
       "            background-color:  #ca3f00;\n",
       "            color:  #f1f1f1;\n",
       "        }#T_33063_row9_col12{\n",
       "            background-color:  #970bcf;\n",
       "            color:  #f1f1f1;\n",
       "        }#T_33063_row9_col14{\n",
       "            background-color:  #bc2900;\n",
       "            color:  #f1f1f1;\n",
       "        }#T_33063_row10_col4{\n",
       "            background-color:  #ce4600;\n",
       "            color:  #f1f1f1;\n",
       "        }#T_33063_row10_col5{\n",
       "            background-color:  #53009d;\n",
       "            color:  #f1f1f1;\n",
       "        }#T_33063_row10_col6{\n",
       "            background-color:  #e07400;\n",
       "            color:  #000000;\n",
       "        }#T_33063_row10_col12{\n",
       "            background-color:  #2a002c;\n",
       "            color:  #f1f1f1;\n",
       "        }#T_33063_row10_col13{\n",
       "            background-color:  #c33300;\n",
       "            color:  #f1f1f1;\n",
       "        }#T_33063_row10_col14{\n",
       "            background-color:  #a41281;\n",
       "            color:  #f1f1f1;\n",
       "        }#T_33063_row11_col1{\n",
       "            background-color:  #eca200;\n",
       "            color:  #000000;\n",
       "        }#T_33063_row11_col4{\n",
       "            background-color:  #8b07f3;\n",
       "            color:  #f1f1f1;\n",
       "        }#T_33063_row11_col5{\n",
       "            background-color:  #7102f1;\n",
       "            color:  #f1f1f1;\n",
       "        }#T_33063_row11_col6,#T_33063_row12_col2{\n",
       "            background-color:  #3c0056;\n",
       "            color:  #f1f1f1;\n",
       "        }#T_33063_row11_col8{\n",
       "            background-color:  #9c0eb3;\n",
       "            color:  #f1f1f1;\n",
       "        }#T_33063_row11_col9{\n",
       "            background-color:  #c73900;\n",
       "            color:  #f1f1f1;\n",
       "        }#T_33063_row11_col13{\n",
       "            background-color:  #a71470;\n",
       "            color:  #f1f1f1;\n",
       "        }#T_33063_row11_col14,#T_33063_row12_col1{\n",
       "            background-color:  #c13000;\n",
       "            color:  #f1f1f1;\n",
       "        }#T_33063_row12_col4{\n",
       "            background-color:  #960ad3;\n",
       "            color:  #f1f1f1;\n",
       "        }#T_33063_row12_col5{\n",
       "            background-color:  #7b03fd;\n",
       "            color:  #f1f1f1;\n",
       "        }#T_33063_row12_col6{\n",
       "            background-color:  #8c07f2;\n",
       "            color:  #f1f1f1;\n",
       "        }#T_33063_row12_col11{\n",
       "            background-color:  #9a0cc0;\n",
       "            color:  #f1f1f1;\n",
       "        }#T_33063_row13_col6{\n",
       "            background-color:  #ae1a35;\n",
       "            color:  #f1f1f1;\n",
       "        }#T_33063_row13_col8,#T_33063_row14_col12{\n",
       "            background-color:  #7603f9;\n",
       "            color:  #f1f1f1;\n",
       "        }#T_33063_row13_col9,#T_33063_row13_col11{\n",
       "            background-color:  #a11096;\n",
       "            color:  #f1f1f1;\n",
       "        }#T_33063_row13_col12{\n",
       "            background-color:  #6101ca;\n",
       "            color:  #f1f1f1;\n",
       "        }#T_33063_row14_col4{\n",
       "            background-color:  #a3118c;\n",
       "            color:  #f1f1f1;\n",
       "        }#T_33063_row14_col6{\n",
       "            background-color:  #9108e6;\n",
       "            color:  #f1f1f1;\n",
       "        }#T_33063_row14_col8{\n",
       "            background-color:  #8a06f5;\n",
       "            color:  #f1f1f1;\n",
       "        }#T_33063_row14_col11{\n",
       "            background-color:  #be2c00;\n",
       "            color:  #f1f1f1;\n",
       "        }</style><table id=\"T_33063_\" ><thead>    <tr>        <th class=\"blank level0\" ></th>        <th class=\"col_heading level0 col0\" >id</th>        <th class=\"col_heading level0 col1\" >Age</th>        <th class=\"col_heading level0 col2\" >Driving_License</th>        <th class=\"col_heading level0 col3\" >Region_Code</th>        <th class=\"col_heading level0 col4\" >Previously_Insured</th>        <th class=\"col_heading level0 col5\" >Annual_Premium</th>        <th class=\"col_heading level0 col6\" >Policy_Sales_Channel</th>        <th class=\"col_heading level0 col7\" >Vintage</th>        <th class=\"col_heading level0 col8\" >Response</th>        <th class=\"col_heading level0 col9\" >Vehicle_Damage01</th>        <th class=\"col_heading level0 col10\" >Vehicle_Age< 1 Year</th>        <th class=\"col_heading level0 col11\" >Vehicle_Age1-2 Year</th>        <th class=\"col_heading level0 col12\" >Vehicle_Age> 2 Years</th>        <th class=\"col_heading level0 col13\" >Female</th>        <th class=\"col_heading level0 col14\" >Male</th>    </tr></thead><tbody>\n",
       "                <tr>\n",
       "                        <th id=\"T_33063_level0_row0\" class=\"row_heading level0 row0\" >id</th>\n",
       "                        <td id=\"T_33063_row0_col0\" class=\"data row0 col0\" >1.0</td>\n",
       "                        <td id=\"T_33063_row0_col1\" class=\"data row0 col1\" >0.00096</td>\n",
       "                        <td id=\"T_33063_row0_col2\" class=\"data row0 col2\" >-0.00056</td>\n",
       "                        <td id=\"T_33063_row0_col3\" class=\"data row0 col3\" >-0.00016</td>\n",
       "                        <td id=\"T_33063_row0_col4\" class=\"data row0 col4\" >0.0025</td>\n",
       "                        <td id=\"T_33063_row0_col5\" class=\"data row0 col5\" >0.0029</td>\n",
       "                        <td id=\"T_33063_row0_col6\" class=\"data row0 col6\" >-0.0024</td>\n",
       "                        <td id=\"T_33063_row0_col7\" class=\"data row0 col7\" >-0.00063</td>\n",
       "                        <td id=\"T_33063_row0_col8\" class=\"data row0 col8\" >-0.0014</td>\n",
       "                        <td id=\"T_33063_row0_col9\" class=\"data row0 col9\" >-0.0015</td>\n",
       "                        <td id=\"T_33063_row0_col10\" class=\"data row0 col10\" >-0.0012</td>\n",
       "                        <td id=\"T_33063_row0_col11\" class=\"data row0 col11\" >0.0014</td>\n",
       "                        <td id=\"T_33063_row0_col12\" class=\"data row0 col12\" >-0.00046</td>\n",
       "                        <td id=\"T_33063_row0_col13\" class=\"data row0 col13\" >-0.001</td>\n",
       "                        <td id=\"T_33063_row0_col14\" class=\"data row0 col14\" >0.001</td>\n",
       "            </tr>\n",
       "            <tr>\n",
       "                        <th id=\"T_33063_level0_row1\" class=\"row_heading level0 row1\" >Age</th>\n",
       "                        <td id=\"T_33063_row1_col0\" class=\"data row1 col0\" >0.00096</td>\n",
       "                        <td id=\"T_33063_row1_col1\" class=\"data row1 col1\" >1.0</td>\n",
       "                        <td id=\"T_33063_row1_col2\" class=\"data row1 col2\" >-0.065</td>\n",
       "                        <td id=\"T_33063_row1_col3\" class=\"data row1 col3\" >0.013</td>\n",
       "                        <td id=\"T_33063_row1_col4\" class=\"data row1 col4\" >-0.27</td>\n",
       "                        <td id=\"T_33063_row1_col5\" class=\"data row1 col5\" >0.099</td>\n",
       "                        <td id=\"T_33063_row1_col6\" class=\"data row1 col6\" >-0.65</td>\n",
       "                        <td id=\"T_33063_row1_col7\" class=\"data row1 col7\" >-0.0016</td>\n",
       "                        <td id=\"T_33063_row1_col8\" class=\"data row1 col8\" >0.14</td>\n",
       "                        <td id=\"T_33063_row1_col9\" class=\"data row1 col9\" >0.28</td>\n",
       "                        <td id=\"T_33063_row1_col10\" class=\"data row1 col10\" >-0.83</td>\n",
       "                        <td id=\"T_33063_row1_col11\" class=\"data row1 col11\" >0.74</td>\n",
       "                        <td id=\"T_33063_row1_col12\" class=\"data row1 col12\" >0.21</td>\n",
       "                        <td id=\"T_33063_row1_col13\" class=\"data row1 col13\" >-0.16</td>\n",
       "                        <td id=\"T_33063_row1_col14\" class=\"data row1 col14\" >0.16</td>\n",
       "            </tr>\n",
       "            <tr>\n",
       "                        <th id=\"T_33063_level0_row2\" class=\"row_heading level0 row2\" >Driving_License</th>\n",
       "                        <td id=\"T_33063_row2_col0\" class=\"data row2 col0\" >-0.00056</td>\n",
       "                        <td id=\"T_33063_row2_col1\" class=\"data row2 col1\" >-0.065</td>\n",
       "                        <td id=\"T_33063_row2_col2\" class=\"data row2 col2\" >1.0</td>\n",
       "                        <td id=\"T_33063_row2_col3\" class=\"data row2 col3\" >0.00053</td>\n",
       "                        <td id=\"T_33063_row2_col4\" class=\"data row2 col4\" >0.015</td>\n",
       "                        <td id=\"T_33063_row2_col5\" class=\"data row2 col5\" >-0.014</td>\n",
       "                        <td id=\"T_33063_row2_col6\" class=\"data row2 col6\" >0.045</td>\n",
       "                        <td id=\"T_33063_row2_col7\" class=\"data row2 col7\" >-0.00085</td>\n",
       "                        <td id=\"T_33063_row2_col8\" class=\"data row2 col8\" >0.01</td>\n",
       "                        <td id=\"T_33063_row2_col9\" class=\"data row2 col9\" >-0.017</td>\n",
       "                        <td id=\"T_33063_row2_col10\" class=\"data row2 col10\" >0.04</td>\n",
       "                        <td id=\"T_33063_row2_col11\" class=\"data row2 col11\" >-0.037</td>\n",
       "                        <td id=\"T_33063_row2_col12\" class=\"data row2 col12\" >-0.0062</td>\n",
       "                        <td id=\"T_33063_row2_col13\" class=\"data row2 col13\" >0.018</td>\n",
       "                        <td id=\"T_33063_row2_col14\" class=\"data row2 col14\" >-0.018</td>\n",
       "            </tr>\n",
       "            <tr>\n",
       "                        <th id=\"T_33063_level0_row3\" class=\"row_heading level0 row3\" >Region_Code</th>\n",
       "                        <td id=\"T_33063_row3_col0\" class=\"data row3 col0\" >-0.00016</td>\n",
       "                        <td id=\"T_33063_row3_col1\" class=\"data row3 col1\" >0.013</td>\n",
       "                        <td id=\"T_33063_row3_col2\" class=\"data row3 col2\" >0.00053</td>\n",
       "                        <td id=\"T_33063_row3_col3\" class=\"data row3 col3\" >1.0</td>\n",
       "                        <td id=\"T_33063_row3_col4\" class=\"data row3 col4\" >-0.0039</td>\n",
       "                        <td id=\"T_33063_row3_col5\" class=\"data row3 col5\" >-0.037</td>\n",
       "                        <td id=\"T_33063_row3_col6\" class=\"data row3 col6\" >-0.015</td>\n",
       "                        <td id=\"T_33063_row3_col7\" class=\"data row3 col7\" >-0.0029</td>\n",
       "                        <td id=\"T_33063_row3_col8\" class=\"data row3 col8\" >0.0012</td>\n",
       "                        <td id=\"T_33063_row3_col9\" class=\"data row3 col9\" >0.0077</td>\n",
       "                        <td id=\"T_33063_row3_col10\" class=\"data row3 col10\" >-0.015</td>\n",
       "                        <td id=\"T_33063_row3_col11\" class=\"data row3 col11\" >0.015</td>\n",
       "                        <td id=\"T_33063_row3_col12\" class=\"data row3 col12\" >0.0014</td>\n",
       "                        <td id=\"T_33063_row3_col13\" class=\"data row3 col13\" >0.0017</td>\n",
       "                        <td id=\"T_33063_row3_col14\" class=\"data row3 col14\" >-0.0017</td>\n",
       "            </tr>\n",
       "            <tr>\n",
       "                        <th id=\"T_33063_level0_row4\" class=\"row_heading level0 row4\" >Previously_Insured</th>\n",
       "                        <td id=\"T_33063_row4_col0\" class=\"data row4 col0\" >0.0025</td>\n",
       "                        <td id=\"T_33063_row4_col1\" class=\"data row4 col1\" >-0.27</td>\n",
       "                        <td id=\"T_33063_row4_col2\" class=\"data row4 col2\" >0.015</td>\n",
       "                        <td id=\"T_33063_row4_col3\" class=\"data row4 col3\" >-0.0039</td>\n",
       "                        <td id=\"T_33063_row4_col4\" class=\"data row4 col4\" >1.0</td>\n",
       "                        <td id=\"T_33063_row4_col5\" class=\"data row4 col5\" >-0.03</td>\n",
       "                        <td id=\"T_33063_row4_col6\" class=\"data row4 col6\" >0.21</td>\n",
       "                        <td id=\"T_33063_row4_col7\" class=\"data row4 col7\" >0.0025</td>\n",
       "                        <td id=\"T_33063_row4_col8\" class=\"data row4 col8\" >-0.34</td>\n",
       "                        <td id=\"T_33063_row4_col9\" class=\"data row4 col9\" >-0.82</td>\n",
       "                        <td id=\"T_33063_row4_col10\" class=\"data row4 col10\" >0.36</td>\n",
       "                        <td id=\"T_33063_row4_col11\" class=\"data row4 col11\" >-0.28</td>\n",
       "                        <td id=\"T_33063_row4_col12\" class=\"data row4 col12\" >-0.19</td>\n",
       "                        <td id=\"T_33063_row4_col13\" class=\"data row4 col13\" >0.082</td>\n",
       "                        <td id=\"T_33063_row4_col14\" class=\"data row4 col14\" >-0.082</td>\n",
       "            </tr>\n",
       "            <tr>\n",
       "                        <th id=\"T_33063_level0_row5\" class=\"row_heading level0 row5\" >Annual_Premium</th>\n",
       "                        <td id=\"T_33063_row5_col0\" class=\"data row5 col0\" >0.0029</td>\n",
       "                        <td id=\"T_33063_row5_col1\" class=\"data row5 col1\" >0.099</td>\n",
       "                        <td id=\"T_33063_row5_col2\" class=\"data row5 col2\" >-0.014</td>\n",
       "                        <td id=\"T_33063_row5_col3\" class=\"data row5 col3\" >-0.037</td>\n",
       "                        <td id=\"T_33063_row5_col4\" class=\"data row5 col4\" >-0.03</td>\n",
       "                        <td id=\"T_33063_row5_col5\" class=\"data row5 col5\" >1.0</td>\n",
       "                        <td id=\"T_33063_row5_col6\" class=\"data row5 col6\" >-0.2</td>\n",
       "                        <td id=\"T_33063_row5_col7\" class=\"data row5 col7\" >-0.00014</td>\n",
       "                        <td id=\"T_33063_row5_col8\" class=\"data row5 col8\" >0.034</td>\n",
       "                        <td id=\"T_33063_row5_col9\" class=\"data row5 col9\" >0.042</td>\n",
       "                        <td id=\"T_33063_row5_col10\" class=\"data row5 col10\" >-0.07</td>\n",
       "                        <td id=\"T_33063_row5_col11\" class=\"data row5 col11\" >0.037</td>\n",
       "                        <td id=\"T_33063_row5_col12\" class=\"data row5 col12\" >0.08</td>\n",
       "                        <td id=\"T_33063_row5_col13\" class=\"data row5 col13\" >-0.018</td>\n",
       "                        <td id=\"T_33063_row5_col14\" class=\"data row5 col14\" >0.018</td>\n",
       "            </tr>\n",
       "            <tr>\n",
       "                        <th id=\"T_33063_level0_row6\" class=\"row_heading level0 row6\" >Policy_Sales_Channel</th>\n",
       "                        <td id=\"T_33063_row6_col0\" class=\"data row6 col0\" >-0.0024</td>\n",
       "                        <td id=\"T_33063_row6_col1\" class=\"data row6 col1\" >-0.65</td>\n",
       "                        <td id=\"T_33063_row6_col2\" class=\"data row6 col2\" >0.045</td>\n",
       "                        <td id=\"T_33063_row6_col3\" class=\"data row6 col3\" >-0.015</td>\n",
       "                        <td id=\"T_33063_row6_col4\" class=\"data row6 col4\" >0.21</td>\n",
       "                        <td id=\"T_33063_row6_col5\" class=\"data row6 col5\" >-0.2</td>\n",
       "                        <td id=\"T_33063_row6_col6\" class=\"data row6 col6\" >1.0</td>\n",
       "                        <td id=\"T_33063_row6_col7\" class=\"data row6 col7\" >0.00019</td>\n",
       "                        <td id=\"T_33063_row6_col8\" class=\"data row6 col8\" >-0.14</td>\n",
       "                        <td id=\"T_33063_row6_col9\" class=\"data row6 col9\" >-0.21</td>\n",
       "                        <td id=\"T_33063_row6_col10\" class=\"data row6 col10\" >0.62</td>\n",
       "                        <td id=\"T_33063_row6_col11\" class=\"data row6 col11\" >-0.55</td>\n",
       "                        <td id=\"T_33063_row6_col12\" class=\"data row6 col12\" >-0.15</td>\n",
       "                        <td id=\"T_33063_row6_col13\" class=\"data row6 col13\" >0.12</td>\n",
       "                        <td id=\"T_33063_row6_col14\" class=\"data row6 col14\" >-0.12</td>\n",
       "            </tr>\n",
       "            <tr>\n",
       "                        <th id=\"T_33063_level0_row7\" class=\"row_heading level0 row7\" >Vintage</th>\n",
       "                        <td id=\"T_33063_row7_col0\" class=\"data row7 col0\" >-0.00063</td>\n",
       "                        <td id=\"T_33063_row7_col1\" class=\"data row7 col1\" >-0.0016</td>\n",
       "                        <td id=\"T_33063_row7_col2\" class=\"data row7 col2\" >-0.00085</td>\n",
       "                        <td id=\"T_33063_row7_col3\" class=\"data row7 col3\" >-0.0029</td>\n",
       "                        <td id=\"T_33063_row7_col4\" class=\"data row7 col4\" >0.0025</td>\n",
       "                        <td id=\"T_33063_row7_col5\" class=\"data row7 col5\" >-0.00014</td>\n",
       "                        <td id=\"T_33063_row7_col6\" class=\"data row7 col6\" >0.00019</td>\n",
       "                        <td id=\"T_33063_row7_col7\" class=\"data row7 col7\" >1.0</td>\n",
       "                        <td id=\"T_33063_row7_col8\" class=\"data row7 col8\" >-0.0011</td>\n",
       "                        <td id=\"T_33063_row7_col9\" class=\"data row7 col9\" >-0.0021</td>\n",
       "                        <td id=\"T_33063_row7_col10\" class=\"data row7 col10\" >0.0024</td>\n",
       "                        <td id=\"T_33063_row7_col11\" class=\"data row7 col11\" >-0.0026</td>\n",
       "                        <td id=\"T_33063_row7_col12\" class=\"data row7 col12\" >0.0006</td>\n",
       "                        <td id=\"T_33063_row7_col13\" class=\"data row7 col13\" >0.0025</td>\n",
       "                        <td id=\"T_33063_row7_col14\" class=\"data row7 col14\" >-0.0025</td>\n",
       "            </tr>\n",
       "            <tr>\n",
       "                        <th id=\"T_33063_level0_row8\" class=\"row_heading level0 row8\" >Response</th>\n",
       "                        <td id=\"T_33063_row8_col0\" class=\"data row8 col0\" >-0.0014</td>\n",
       "                        <td id=\"T_33063_row8_col1\" class=\"data row8 col1\" >0.14</td>\n",
       "                        <td id=\"T_33063_row8_col2\" class=\"data row8 col2\" >0.01</td>\n",
       "                        <td id=\"T_33063_row8_col3\" class=\"data row8 col3\" >0.0012</td>\n",
       "                        <td id=\"T_33063_row8_col4\" class=\"data row8 col4\" >-0.34</td>\n",
       "                        <td id=\"T_33063_row8_col5\" class=\"data row8 col5\" >0.034</td>\n",
       "                        <td id=\"T_33063_row8_col6\" class=\"data row8 col6\" >-0.14</td>\n",
       "                        <td id=\"T_33063_row8_col7\" class=\"data row8 col7\" >-0.0011</td>\n",
       "                        <td id=\"T_33063_row8_col8\" class=\"data row8 col8\" >1.0</td>\n",
       "                        <td id=\"T_33063_row8_col9\" class=\"data row8 col9\" >0.35</td>\n",
       "                        <td id=\"T_33063_row8_col10\" class=\"data row8 col10\" >-0.21</td>\n",
       "                        <td id=\"T_33063_row8_col11\" class=\"data row8 col11\" >0.16</td>\n",
       "                        <td id=\"T_33063_row8_col12\" class=\"data row8 col12\" >0.11</td>\n",
       "                        <td id=\"T_33063_row8_col13\" class=\"data row8 col13\" >-0.052</td>\n",
       "                        <td id=\"T_33063_row8_col14\" class=\"data row8 col14\" >0.052</td>\n",
       "            </tr>\n",
       "            <tr>\n",
       "                        <th id=\"T_33063_level0_row9\" class=\"row_heading level0 row9\" >Vehicle_Damage01</th>\n",
       "                        <td id=\"T_33063_row9_col0\" class=\"data row9 col0\" >-0.0015</td>\n",
       "                        <td id=\"T_33063_row9_col1\" class=\"data row9 col1\" >0.28</td>\n",
       "                        <td id=\"T_33063_row9_col2\" class=\"data row9 col2\" >-0.017</td>\n",
       "                        <td id=\"T_33063_row9_col3\" class=\"data row9 col3\" >0.0077</td>\n",
       "                        <td id=\"T_33063_row9_col4\" class=\"data row9 col4\" >-0.82</td>\n",
       "                        <td id=\"T_33063_row9_col5\" class=\"data row9 col5\" >0.042</td>\n",
       "                        <td id=\"T_33063_row9_col6\" class=\"data row9 col6\" >-0.21</td>\n",
       "                        <td id=\"T_33063_row9_col7\" class=\"data row9 col7\" >-0.0021</td>\n",
       "                        <td id=\"T_33063_row9_col8\" class=\"data row9 col8\" >0.35</td>\n",
       "                        <td id=\"T_33063_row9_col9\" class=\"data row9 col9\" >1.0</td>\n",
       "                        <td id=\"T_33063_row9_col10\" class=\"data row9 col10\" >-0.37</td>\n",
       "                        <td id=\"T_33063_row9_col11\" class=\"data row9 col11\" >0.28</td>\n",
       "                        <td id=\"T_33063_row9_col12\" class=\"data row9 col12\" >0.21</td>\n",
       "                        <td id=\"T_33063_row9_col13\" class=\"data row9 col13\" >-0.092</td>\n",
       "                        <td id=\"T_33063_row9_col14\" class=\"data row9 col14\" >0.092</td>\n",
       "            </tr>\n",
       "            <tr>\n",
       "                        <th id=\"T_33063_level0_row10\" class=\"row_heading level0 row10\" >Vehicle_Age< 1 Year</th>\n",
       "                        <td id=\"T_33063_row10_col0\" class=\"data row10 col0\" >-0.0012</td>\n",
       "                        <td id=\"T_33063_row10_col1\" class=\"data row10 col1\" >-0.83</td>\n",
       "                        <td id=\"T_33063_row10_col2\" class=\"data row10 col2\" >0.04</td>\n",
       "                        <td id=\"T_33063_row10_col3\" class=\"data row10 col3\" >-0.015</td>\n",
       "                        <td id=\"T_33063_row10_col4\" class=\"data row10 col4\" >0.36</td>\n",
       "                        <td id=\"T_33063_row10_col5\" class=\"data row10 col5\" >-0.07</td>\n",
       "                        <td id=\"T_33063_row10_col6\" class=\"data row10 col6\" >0.62</td>\n",
       "                        <td id=\"T_33063_row10_col7\" class=\"data row10 col7\" >0.0024</td>\n",
       "                        <td id=\"T_33063_row10_col8\" class=\"data row10 col8\" >-0.21</td>\n",
       "                        <td id=\"T_33063_row10_col9\" class=\"data row10 col9\" >-0.37</td>\n",
       "                        <td id=\"T_33063_row10_col10\" class=\"data row10 col10\" >1.0</td>\n",
       "                        <td id=\"T_33063_row10_col11\" class=\"data row10 col11\" >-0.92</td>\n",
       "                        <td id=\"T_33063_row10_col12\" class=\"data row10 col12\" >-0.18</td>\n",
       "                        <td id=\"T_33063_row10_col13\" class=\"data row10 col13\" >0.17</td>\n",
       "                        <td id=\"T_33063_row10_col14\" class=\"data row10 col14\" >-0.17</td>\n",
       "            </tr>\n",
       "            <tr>\n",
       "                        <th id=\"T_33063_level0_row11\" class=\"row_heading level0 row11\" >Vehicle_Age1-2 Year</th>\n",
       "                        <td id=\"T_33063_row11_col0\" class=\"data row11 col0\" >0.0014</td>\n",
       "                        <td id=\"T_33063_row11_col1\" class=\"data row11 col1\" >0.74</td>\n",
       "                        <td id=\"T_33063_row11_col2\" class=\"data row11 col2\" >-0.037</td>\n",
       "                        <td id=\"T_33063_row11_col3\" class=\"data row11 col3\" >0.015</td>\n",
       "                        <td id=\"T_33063_row11_col4\" class=\"data row11 col4\" >-0.28</td>\n",
       "                        <td id=\"T_33063_row11_col5\" class=\"data row11 col5\" >0.037</td>\n",
       "                        <td id=\"T_33063_row11_col6\" class=\"data row11 col6\" >-0.55</td>\n",
       "                        <td id=\"T_33063_row11_col7\" class=\"data row11 col7\" >-0.0026</td>\n",
       "                        <td id=\"T_33063_row11_col8\" class=\"data row11 col8\" >0.16</td>\n",
       "                        <td id=\"T_33063_row11_col9\" class=\"data row11 col9\" >0.28</td>\n",
       "                        <td id=\"T_33063_row11_col10\" class=\"data row11 col10\" >-0.92</td>\n",
       "                        <td id=\"T_33063_row11_col11\" class=\"data row11 col11\" >1.0</td>\n",
       "                        <td id=\"T_33063_row11_col12\" class=\"data row11 col12\" >-0.22</td>\n",
       "                        <td id=\"T_33063_row11_col13\" class=\"data row11 col13\" >-0.15</td>\n",
       "                        <td id=\"T_33063_row11_col14\" class=\"data row11 col14\" >0.15</td>\n",
       "            </tr>\n",
       "            <tr>\n",
       "                        <th id=\"T_33063_level0_row12\" class=\"row_heading level0 row12\" >Vehicle_Age> 2 Years</th>\n",
       "                        <td id=\"T_33063_row12_col0\" class=\"data row12 col0\" >-0.00046</td>\n",
       "                        <td id=\"T_33063_row12_col1\" class=\"data row12 col1\" >0.21</td>\n",
       "                        <td id=\"T_33063_row12_col2\" class=\"data row12 col2\" >-0.0062</td>\n",
       "                        <td id=\"T_33063_row12_col3\" class=\"data row12 col3\" >0.0014</td>\n",
       "                        <td id=\"T_33063_row12_col4\" class=\"data row12 col4\" >-0.19</td>\n",
       "                        <td id=\"T_33063_row12_col5\" class=\"data row12 col5\" >0.08</td>\n",
       "                        <td id=\"T_33063_row12_col6\" class=\"data row12 col6\" >-0.15</td>\n",
       "                        <td id=\"T_33063_row12_col7\" class=\"data row12 col7\" >0.0006</td>\n",
       "                        <td id=\"T_33063_row12_col8\" class=\"data row12 col8\" >0.11</td>\n",
       "                        <td id=\"T_33063_row12_col9\" class=\"data row12 col9\" >0.21</td>\n",
       "                        <td id=\"T_33063_row12_col10\" class=\"data row12 col10\" >-0.18</td>\n",
       "                        <td id=\"T_33063_row12_col11\" class=\"data row12 col11\" >-0.22</td>\n",
       "                        <td id=\"T_33063_row12_col12\" class=\"data row12 col12\" >1.0</td>\n",
       "                        <td id=\"T_33063_row12_col13\" class=\"data row12 col13\" >-0.043</td>\n",
       "                        <td id=\"T_33063_row12_col14\" class=\"data row12 col14\" >0.043</td>\n",
       "            </tr>\n",
       "            <tr>\n",
       "                        <th id=\"T_33063_level0_row13\" class=\"row_heading level0 row13\" >Female</th>\n",
       "                        <td id=\"T_33063_row13_col0\" class=\"data row13 col0\" >-0.001</td>\n",
       "                        <td id=\"T_33063_row13_col1\" class=\"data row13 col1\" >-0.16</td>\n",
       "                        <td id=\"T_33063_row13_col2\" class=\"data row13 col2\" >0.018</td>\n",
       "                        <td id=\"T_33063_row13_col3\" class=\"data row13 col3\" >0.0017</td>\n",
       "                        <td id=\"T_33063_row13_col4\" class=\"data row13 col4\" >0.082</td>\n",
       "                        <td id=\"T_33063_row13_col5\" class=\"data row13 col5\" >-0.018</td>\n",
       "                        <td id=\"T_33063_row13_col6\" class=\"data row13 col6\" >0.12</td>\n",
       "                        <td id=\"T_33063_row13_col7\" class=\"data row13 col7\" >0.0025</td>\n",
       "                        <td id=\"T_33063_row13_col8\" class=\"data row13 col8\" >-0.052</td>\n",
       "                        <td id=\"T_33063_row13_col9\" class=\"data row13 col9\" >-0.092</td>\n",
       "                        <td id=\"T_33063_row13_col10\" class=\"data row13 col10\" >0.17</td>\n",
       "                        <td id=\"T_33063_row13_col11\" class=\"data row13 col11\" >-0.15</td>\n",
       "                        <td id=\"T_33063_row13_col12\" class=\"data row13 col12\" >-0.043</td>\n",
       "                        <td id=\"T_33063_row13_col13\" class=\"data row13 col13\" >1.0</td>\n",
       "                        <td id=\"T_33063_row13_col14\" class=\"data row13 col14\" >-1.0</td>\n",
       "            </tr>\n",
       "            <tr>\n",
       "                        <th id=\"T_33063_level0_row14\" class=\"row_heading level0 row14\" >Male</th>\n",
       "                        <td id=\"T_33063_row14_col0\" class=\"data row14 col0\" >0.001</td>\n",
       "                        <td id=\"T_33063_row14_col1\" class=\"data row14 col1\" >0.16</td>\n",
       "                        <td id=\"T_33063_row14_col2\" class=\"data row14 col2\" >-0.018</td>\n",
       "                        <td id=\"T_33063_row14_col3\" class=\"data row14 col3\" >-0.0017</td>\n",
       "                        <td id=\"T_33063_row14_col4\" class=\"data row14 col4\" >-0.082</td>\n",
       "                        <td id=\"T_33063_row14_col5\" class=\"data row14 col5\" >0.018</td>\n",
       "                        <td id=\"T_33063_row14_col6\" class=\"data row14 col6\" >-0.12</td>\n",
       "                        <td id=\"T_33063_row14_col7\" class=\"data row14 col7\" >-0.0025</td>\n",
       "                        <td id=\"T_33063_row14_col8\" class=\"data row14 col8\" >0.052</td>\n",
       "                        <td id=\"T_33063_row14_col9\" class=\"data row14 col9\" >0.092</td>\n",
       "                        <td id=\"T_33063_row14_col10\" class=\"data row14 col10\" >-0.17</td>\n",
       "                        <td id=\"T_33063_row14_col11\" class=\"data row14 col11\" >0.15</td>\n",
       "                        <td id=\"T_33063_row14_col12\" class=\"data row14 col12\" >0.043</td>\n",
       "                        <td id=\"T_33063_row14_col13\" class=\"data row14 col13\" >-1.0</td>\n",
       "                        <td id=\"T_33063_row14_col14\" class=\"data row14 col14\" >1.0</td>\n",
       "            </tr>\n",
       "    </tbody></table>"
      ],
      "text/plain": [
       "<pandas.io.formats.style.Styler at 0x1ea74614910>"
      ]
     },
     "execution_count": 46,
     "metadata": {},
     "output_type": "execute_result"
    }
   ],
   "source": [
    "dataframe = numerical_DF.toPandas()\n",
    "from matplotlib import pyplot\n",
    "dataframe.corr(method='spearman').style.format(\"{:.2}\").background_gradient(cmap=pyplot.get_cmap('gnuplot'))\n",
    "#we can see that there no such a remarquable correlation between variables.\n",
    " \n",
    "\n",
    "\n"
   ]
  },
  {
   "cell_type": "markdown",
   "id": "a11525c3",
   "metadata": {},
   "source": [
    "# MODELS TRAININIG"
   ]
  },
  {
   "cell_type": "markdown",
   "id": "9af49e96",
   "metadata": {},
   "source": [
    "### Using Scikit-Learn"
   ]
  },
  {
   "cell_type": "code",
   "execution_count": 47,
   "id": "8581d669",
   "metadata": {},
   "outputs": [],
   "source": [
    "from sklearn.model_selection import train_test_split"
   ]
  },
  {
   "cell_type": "code",
   "execution_count": 48,
   "id": "407dac6f",
   "metadata": {},
   "outputs": [],
   "source": [
    "dataframe = numerical_DF.toPandas()"
   ]
  },
  {
   "cell_type": "code",
   "execution_count": 49,
   "id": "7d6fe8e3",
   "metadata": {},
   "outputs": [
    {
     "name": "stdout",
     "output_type": "stream",
     "text": [
      "<class 'pandas.core.frame.DataFrame'>\n",
      "RangeIndex: 381109 entries, 0 to 381108\n",
      "Data columns (total 15 columns):\n",
      " #   Column                Non-Null Count   Dtype  \n",
      "---  ------                --------------   -----  \n",
      " 0   id                    381109 non-null  int32  \n",
      " 1   Age                   381109 non-null  int32  \n",
      " 2   Driving_License       381109 non-null  int32  \n",
      " 3   Region_Code           381109 non-null  float64\n",
      " 4   Previously_Insured    381109 non-null  int32  \n",
      " 5   Annual_Premium        381109 non-null  float64\n",
      " 6   Policy_Sales_Channel  381109 non-null  float64\n",
      " 7   Vintage               381109 non-null  int32  \n",
      " 8   Response              381109 non-null  int32  \n",
      " 9   Vehicle_Damage01      381109 non-null  int32  \n",
      " 10  Vehicle_Age< 1 Year   381109 non-null  int32  \n",
      " 11  Vehicle_Age1-2 Year   381109 non-null  int32  \n",
      " 12  Vehicle_Age> 2 Years  381109 non-null  int32  \n",
      " 13  Female                381109 non-null  int32  \n",
      " 14  Male                  381109 non-null  int32  \n",
      "dtypes: float64(3), int32(12)\n",
      "memory usage: 26.2 MB\n"
     ]
    }
   ],
   "source": [
    "dataframe.info()"
   ]
  },
  {
   "cell_type": "code",
   "execution_count": 50,
   "id": "a19bce03",
   "metadata": {},
   "outputs": [],
   "source": [
    "#spliting data into data and target\n",
    "X=dataframe.drop('Response',axis=1)\n",
    "Y=dataframe['Response']"
   ]
  },
  {
   "cell_type": "code",
   "execution_count": 51,
   "id": "56510446",
   "metadata": {},
   "outputs": [],
   "source": [
    "from sklearn.model_selection import train_test_split\n",
    "#Splitting the data ( X and Y )into ( training and testing ) data\n",
    "X_train, X_test, Y_train, Y_test = train_test_split(X , Y , test_size=0.4 , random_state=218 )"
   ]
  },
  {
   "cell_type": "markdown",
   "id": "71a1ab0f",
   "metadata": {},
   "source": [
    "### Using ML Spark "
   ]
  },
  {
   "cell_type": "code",
   "execution_count": 52,
   "id": "16613c1b",
   "metadata": {},
   "outputs": [],
   "source": [
    "#Vectorizing the DataFrame \n",
    "from pyspark.ml.feature import VectorAssembler\n",
    "assembler=VectorAssembler(inputCols=['Age', 'Driving_License', 'Region_Code', 'Previously_Insured', 'Annual_Premium', 'Policy_Sales_Channel', 'Vintage', 'Vehicle_Damage01', 'Vehicle_Age< 1 Year', 'Vehicle_Age1-2 Year', 'Vehicle_Age> 2 Years', 'Female', 'Male'],outputCol='features')"
   ]
  },
  {
   "cell_type": "code",
   "execution_count": 53,
   "id": "518a9e2d",
   "metadata": {},
   "outputs": [],
   "source": [
    "df_final = assembler.transform(numerical_DF)"
   ]
  },
  {
   "cell_type": "code",
   "execution_count": 54,
   "id": "a1b91c09",
   "metadata": {},
   "outputs": [
    {
     "data": {
      "text/html": [
       "<table border='1'>\n",
       "<tr><th>id</th><th>Age</th><th>Driving_License</th><th>Region_Code</th><th>Previously_Insured</th><th>Annual_Premium</th><th>Policy_Sales_Channel</th><th>Vintage</th><th>Response</th><th>Vehicle_Damage01</th><th>Vehicle_Age&lt; 1 Year</th><th>Vehicle_Age1-2 Year</th><th>Vehicle_Age&gt; 2 Years</th><th>Female</th><th>Male</th><th>features</th></tr>\n",
       "<tr><td>1</td><td>44</td><td>1</td><td>28.0</td><td>0</td><td>40454.0</td><td>26.0</td><td>217</td><td>1</td><td>1</td><td>0</td><td>0</td><td>1</td><td>0</td><td>1</td><td>[44.0,1.0,28.0,0....</td></tr>\n",
       "<tr><td>2</td><td>76</td><td>1</td><td>3.0</td><td>0</td><td>33536.0</td><td>26.0</td><td>183</td><td>0</td><td>0</td><td>0</td><td>1</td><td>0</td><td>0</td><td>1</td><td>[76.0,1.0,3.0,0.0...</td></tr>\n",
       "<tr><td>3</td><td>47</td><td>1</td><td>28.0</td><td>0</td><td>38294.0</td><td>26.0</td><td>27</td><td>1</td><td>1</td><td>0</td><td>0</td><td>1</td><td>0</td><td>1</td><td>[47.0,1.0,28.0,0....</td></tr>\n",
       "<tr><td>4</td><td>21</td><td>1</td><td>11.0</td><td>1</td><td>28619.0</td><td>152.0</td><td>203</td><td>0</td><td>0</td><td>1</td><td>0</td><td>0</td><td>0</td><td>1</td><td>[21.0,1.0,11.0,1....</td></tr>\n",
       "<tr><td>5</td><td>29</td><td>1</td><td>41.0</td><td>1</td><td>27496.0</td><td>152.0</td><td>39</td><td>0</td><td>0</td><td>1</td><td>0</td><td>0</td><td>1</td><td>0</td><td>[29.0,1.0,41.0,1....</td></tr>\n",
       "</table>\n"
      ],
      "text/plain": [
       "+---+---+---------------+-----------+------------------+--------------+--------------------+-------+--------+----------------+-------------------+-------------------+--------------------+------+----+--------------------+\n",
       "| id|Age|Driving_License|Region_Code|Previously_Insured|Annual_Premium|Policy_Sales_Channel|Vintage|Response|Vehicle_Damage01|Vehicle_Age< 1 Year|Vehicle_Age1-2 Year|Vehicle_Age> 2 Years|Female|Male|            features|\n",
       "+---+---+---------------+-----------+------------------+--------------+--------------------+-------+--------+----------------+-------------------+-------------------+--------------------+------+----+--------------------+\n",
       "|  1| 44|              1|       28.0|                 0|       40454.0|                26.0|    217|       1|               1|                  0|                  0|                   1|     0|   1|[44.0,1.0,28.0,0....|\n",
       "|  2| 76|              1|        3.0|                 0|       33536.0|                26.0|    183|       0|               0|                  0|                  1|                   0|     0|   1|[76.0,1.0,3.0,0.0...|\n",
       "|  3| 47|              1|       28.0|                 0|       38294.0|                26.0|     27|       1|               1|                  0|                  0|                   1|     0|   1|[47.0,1.0,28.0,0....|\n",
       "|  4| 21|              1|       11.0|                 1|       28619.0|               152.0|    203|       0|               0|                  1|                  0|                   0|     0|   1|[21.0,1.0,11.0,1....|\n",
       "|  5| 29|              1|       41.0|                 1|       27496.0|               152.0|     39|       0|               0|                  1|                  0|                   0|     1|   0|[29.0,1.0,41.0,1....|\n",
       "+---+---+---------------+-----------+------------------+--------------+--------------------+-------+--------+----------------+-------------------+-------------------+--------------------+------+----+--------------------+"
      ]
     },
     "execution_count": 54,
     "metadata": {},
     "output_type": "execute_result"
    }
   ],
   "source": [
    "df_final.limit(5)"
   ]
  },
  {
   "cell_type": "code",
   "execution_count": 55,
   "id": "90898cd2",
   "metadata": {},
   "outputs": [],
   "source": [
    "dataset1 = df_final.select('features','Response')\n",
    "dataset2 = dataset1.withColumnRenamed(\"Response\", \"label\")"
   ]
  },
  {
   "cell_type": "code",
   "execution_count": 56,
   "id": "ffebafd7",
   "metadata": {},
   "outputs": [],
   "source": [
    "train,test = dataset2.randomSplit([0.7,0.3])"
   ]
  },
  {
   "cell_type": "markdown",
   "id": "ca3f8aa6",
   "metadata": {},
   "source": [
    "## LOGISTIC REGRESSION Model"
   ]
  },
  {
   "cell_type": "markdown",
   "id": "b8281b56",
   "metadata": {},
   "source": [
    "### Logistic Regression with Scikit-Learn"
   ]
  },
  {
   "cell_type": "code",
   "execution_count": 57,
   "id": "1a84b278",
   "metadata": {},
   "outputs": [],
   "source": [
    "from sklearn.linear_model import LogisticRegression"
   ]
  },
  {
   "cell_type": "code",
   "execution_count": 58,
   "id": "f0ce6436",
   "metadata": {},
   "outputs": [],
   "source": [
    "LogRegmodel=LogisticRegression()"
   ]
  },
  {
   "cell_type": "code",
   "execution_count": 59,
   "id": "a3a28873",
   "metadata": {},
   "outputs": [
    {
     "data": {
      "text/plain": [
       "LogisticRegression()"
      ]
     },
     "execution_count": 59,
     "metadata": {},
     "output_type": "execute_result"
    }
   ],
   "source": [
    "LogRegmodel.fit(X_train,Y_train)"
   ]
  },
  {
   "cell_type": "code",
   "execution_count": 60,
   "id": "68df5b4b",
   "metadata": {},
   "outputs": [],
   "source": [
    "predictions = LogRegmodel.predict(X_test)"
   ]
  },
  {
   "cell_type": "code",
   "execution_count": 61,
   "id": "99336074",
   "metadata": {},
   "outputs": [],
   "source": [
    "from sklearn.metrics import classification_report"
   ]
  },
  {
   "cell_type": "code",
   "execution_count": 62,
   "id": "23efe1be",
   "metadata": {},
   "outputs": [
    {
     "name": "stdout",
     "output_type": "stream",
     "text": [
      "              precision    recall  f1-score   support\n",
      "\n",
      "           0       0.88      1.00      0.93    133635\n",
      "           1       0.00      0.00      0.00     18809\n",
      "\n",
      "    accuracy                           0.88    152444\n",
      "   macro avg       0.44      0.50      0.47    152444\n",
      "weighted avg       0.77      0.88      0.82    152444\n",
      "\n"
     ]
    },
    {
     "name": "stderr",
     "output_type": "stream",
     "text": [
      "C:\\ProgramData\\Anaconda3\\lib\\site-packages\\sklearn\\metrics\\_classification.py:1245: UndefinedMetricWarning: Precision and F-score are ill-defined and being set to 0.0 in labels with no predicted samples. Use `zero_division` parameter to control this behavior.\n",
      "  _warn_prf(average, modifier, msg_start, len(result))\n",
      "C:\\ProgramData\\Anaconda3\\lib\\site-packages\\sklearn\\metrics\\_classification.py:1245: UndefinedMetricWarning: Precision and F-score are ill-defined and being set to 0.0 in labels with no predicted samples. Use `zero_division` parameter to control this behavior.\n",
      "  _warn_prf(average, modifier, msg_start, len(result))\n",
      "C:\\ProgramData\\Anaconda3\\lib\\site-packages\\sklearn\\metrics\\_classification.py:1245: UndefinedMetricWarning: Precision and F-score are ill-defined and being set to 0.0 in labels with no predicted samples. Use `zero_division` parameter to control this behavior.\n",
      "  _warn_prf(average, modifier, msg_start, len(result))\n"
     ]
    }
   ],
   "source": [
    "print(classification_report(Y_test,predictions))"
   ]
  },
  {
   "cell_type": "code",
   "execution_count": 63,
   "id": "ff9fd283",
   "metadata": {},
   "outputs": [],
   "source": [
    "from sklearn.metrics import confusion_matrix"
   ]
  },
  {
   "cell_type": "code",
   "execution_count": 64,
   "id": "76b2a837",
   "metadata": {},
   "outputs": [
    {
     "data": {
      "text/plain": [
       "array([[133635,      0],\n",
       "       [ 18809,      0]], dtype=int64)"
      ]
     },
     "execution_count": 64,
     "metadata": {},
     "output_type": "execute_result"
    }
   ],
   "source": [
    "confusion_matrix(Y_test,predictions)"
   ]
  },
  {
   "cell_type": "raw",
   "id": "1e323666",
   "metadata": {},
   "source": [
    "        |  PR0   |  PR1\n",
    "--------|--------|---------       \n",
    "    AC0 | 133947 |  0\n",
    "        |        |\n",
    "--------|--------|---------\n",
    "    AC1 | 18497  |  0\n",
    "        |        | \n",
    "AC0 = Actual 0 ; AC1 = Actual 1 ;    \n",
    "PR0 = Predicted 0  ;  PR1 = Predicted 1  ;"
   ]
  },
  {
   "cell_type": "code",
   "execution_count": 65,
   "id": "4b9797d5",
   "metadata": {},
   "outputs": [],
   "source": [
    "from sklearn.metrics import accuracy_score"
   ]
  },
  {
   "cell_type": "code",
   "execution_count": 66,
   "id": "dd43dc36",
   "metadata": {},
   "outputs": [
    {
     "data": {
      "text/plain": [
       "0.8766169872215371"
      ]
     },
     "execution_count": 66,
     "metadata": {},
     "output_type": "execute_result"
    }
   ],
   "source": [
    "accuracy_score(Y_test,predictions)"
   ]
  },
  {
   "cell_type": "markdown",
   "id": "1208ab00",
   "metadata": {},
   "source": [
    "### Logistic Regression with ML PySpark"
   ]
  },
  {
   "cell_type": "code",
   "execution_count": 67,
   "id": "d2974b03",
   "metadata": {},
   "outputs": [],
   "source": [
    "from pyspark.ml.classification import LogisticRegression"
   ]
  },
  {
   "cell_type": "code",
   "execution_count": 68,
   "id": "6fcd9044",
   "metadata": {},
   "outputs": [],
   "source": [
    "LR = LogisticRegression()"
   ]
  },
  {
   "cell_type": "code",
   "execution_count": 69,
   "id": "195e2531",
   "metadata": {},
   "outputs": [],
   "source": [
    "LRmodel = LR.fit(train)"
   ]
  },
  {
   "cell_type": "code",
   "execution_count": 70,
   "id": "3b006af5",
   "metadata": {},
   "outputs": [
    {
     "data": {
      "text/html": [
       "<table border='1'>\n",
       "<tr><th>features</th><th>label</th><th>rawPrediction</th><th>probability</th><th>prediction</th></tr>\n",
       "<tr><td>(13,[0,1,4,5,6,8,...</td><td>0</td><td>[3.96366144275323...</td><td>[0.98136058329083...</td><td>0.0</td></tr>\n",
       "<tr><td>(13,[0,1,4,5,6,9,...</td><td>0</td><td>[2.63410699214575...</td><td>[0.93302465079642...</td><td>0.0</td></tr>\n",
       "<tr><td>(13,[0,1,4,5,6,9,...</td><td>0</td><td>[2.72874956147039...</td><td>[0.93870192562913...</td><td>0.0</td></tr>\n",
       "<tr><td>(13,[0,1,4,5,6,9,...</td><td>0</td><td>[3.27414056906613...</td><td>[0.96353094701077...</td><td>0.0</td></tr>\n",
       "<tr><td>(13,[0,1,4,5,6,9,...</td><td>0</td><td>[2.67381078656977...</td><td>[0.93546347666059...</td><td>0.0</td></tr>\n",
       "<tr><td>(13,[0,1,4,5,6,9,...</td><td>0</td><td>[2.82264352299563...</td><td>[0.94388724268969...</td><td>0.0</td></tr>\n",
       "<tr><td>(13,[0,1,4,5,6,9,...</td><td>0</td><td>[2.67598530650919...</td><td>[0.93559463157724...</td><td>0.0</td></tr>\n",
       "<tr><td>(13,[0,1,4,5,6,9,...</td><td>0</td><td>[2.62910948838649...</td><td>[0.93271168190005...</td><td>0.0</td></tr>\n",
       "<tr><td>(13,[0,1,4,5,6,9,...</td><td>0</td><td>[2.74211128786392...</td><td>[0.93946627580474...</td><td>0.0</td></tr>\n",
       "<tr><td>(13,[0,1,4,5,6,9,...</td><td>0</td><td>[2.72679823711521...</td><td>[0.93858954905076...</td><td>0.0</td></tr>\n",
       "<tr><td>(13,[0,1,4,5,6,9,...</td><td>0</td><td>[2.78147526711454...</td><td>[0.94166653469353...</td><td>0.0</td></tr>\n",
       "<tr><td>(13,[0,1,4,5,6,9,...</td><td>0</td><td>[3.09027261203198...</td><td>[0.95648971179062...</td><td>0.0</td></tr>\n",
       "<tr><td>(13,[0,1,4,5,6,9,...</td><td>0</td><td>[2.95320878531476...</td><td>[0.95041492566479...</td><td>0.0</td></tr>\n",
       "<tr><td>(13,[0,1,4,5,6,9,...</td><td>0</td><td>[2.97580748578434...</td><td>[0.95146914539479...</td><td>0.0</td></tr>\n",
       "<tr><td>(13,[0,1,4,5,6,9,...</td><td>0</td><td>[3.00572783938945...</td><td>[0.95283222171574...</td><td>0.0</td></tr>\n",
       "<tr><td>(13,[0,1,4,5,6,9,...</td><td>0</td><td>[3.07673659875471...</td><td>[0.95592288781045...</td><td>0.0</td></tr>\n",
       "<tr><td>(13,[0,1,4,5,6,9,...</td><td>0</td><td>[3.50635953369678...</td><td>[0.97086817658161...</td><td>0.0</td></tr>\n",
       "<tr><td>(13,[0,2,4,5,6,9,...</td><td>0</td><td>[5.11416521518356...</td><td>[0.99402492252582...</td><td>0.0</td></tr>\n",
       "<tr><td>(13,[0,2,4,5,6,9,...</td><td>0</td><td>[5.04380806611968...</td><td>[0.99359218219542...</td><td>0.0</td></tr>\n",
       "<tr><td>(13,[0,2,4,5,6,9,...</td><td>0</td><td>[4.88799849908106...</td><td>[0.99251988216141...</td><td>0.0</td></tr>\n",
       "</table>\n",
       "only showing top 20 rows\n"
      ],
      "text/plain": [
       "+--------------------+-----+--------------------+--------------------+----------+\n",
       "|            features|label|       rawPrediction|         probability|prediction|\n",
       "+--------------------+-----+--------------------+--------------------+----------+\n",
       "|(13,[0,1,4,5,6,8,...|    0|[3.96366144275323...|[0.98136058329083...|       0.0|\n",
       "|(13,[0,1,4,5,6,9,...|    0|[2.63410699214575...|[0.93302465079642...|       0.0|\n",
       "|(13,[0,1,4,5,6,9,...|    0|[2.72874956147039...|[0.93870192562913...|       0.0|\n",
       "|(13,[0,1,4,5,6,9,...|    0|[3.27414056906613...|[0.96353094701077...|       0.0|\n",
       "|(13,[0,1,4,5,6,9,...|    0|[2.67381078656977...|[0.93546347666059...|       0.0|\n",
       "|(13,[0,1,4,5,6,9,...|    0|[2.82264352299563...|[0.94388724268969...|       0.0|\n",
       "|(13,[0,1,4,5,6,9,...|    0|[2.67598530650919...|[0.93559463157724...|       0.0|\n",
       "|(13,[0,1,4,5,6,9,...|    0|[2.62910948838649...|[0.93271168190005...|       0.0|\n",
       "|(13,[0,1,4,5,6,9,...|    0|[2.74211128786392...|[0.93946627580474...|       0.0|\n",
       "|(13,[0,1,4,5,6,9,...|    0|[2.72679823711521...|[0.93858954905076...|       0.0|\n",
       "|(13,[0,1,4,5,6,9,...|    0|[2.78147526711454...|[0.94166653469353...|       0.0|\n",
       "|(13,[0,1,4,5,6,9,...|    0|[3.09027261203198...|[0.95648971179062...|       0.0|\n",
       "|(13,[0,1,4,5,6,9,...|    0|[2.95320878531476...|[0.95041492566479...|       0.0|\n",
       "|(13,[0,1,4,5,6,9,...|    0|[2.97580748578434...|[0.95146914539479...|       0.0|\n",
       "|(13,[0,1,4,5,6,9,...|    0|[3.00572783938945...|[0.95283222171574...|       0.0|\n",
       "|(13,[0,1,4,5,6,9,...|    0|[3.07673659875471...|[0.95592288781045...|       0.0|\n",
       "|(13,[0,1,4,5,6,9,...|    0|[3.50635953369678...|[0.97086817658161...|       0.0|\n",
       "|(13,[0,2,4,5,6,9,...|    0|[5.11416521518356...|[0.99402492252582...|       0.0|\n",
       "|(13,[0,2,4,5,6,9,...|    0|[5.04380806611968...|[0.99359218219542...|       0.0|\n",
       "|(13,[0,2,4,5,6,9,...|    0|[4.88799849908106...|[0.99251988216141...|       0.0|\n",
       "+--------------------+-----+--------------------+--------------------+----------+\n",
       "only showing top 20 rows"
      ]
     },
     "execution_count": 70,
     "metadata": {},
     "output_type": "execute_result"
    }
   ],
   "source": [
    "LRpredictions = LRmodel.transform(test)\n",
    "LRpredictions"
   ]
  },
  {
   "cell_type": "markdown",
   "id": "8dd4d414",
   "metadata": {},
   "source": [
    "## Naive Bayes Model "
   ]
  },
  {
   "cell_type": "markdown",
   "id": "47475493",
   "metadata": {},
   "source": [
    "### Naive Bayes with Scikit-Learn "
   ]
  },
  {
   "cell_type": "code",
   "execution_count": 71,
   "id": "7d74a9d1",
   "metadata": {},
   "outputs": [],
   "source": [
    "from sklearn.naive_bayes import GaussianNB"
   ]
  },
  {
   "cell_type": "code",
   "execution_count": 72,
   "id": "47594e61",
   "metadata": {},
   "outputs": [],
   "source": [
    "model = GaussianNB()"
   ]
  },
  {
   "cell_type": "code",
   "execution_count": 73,
   "id": "2378c6d2",
   "metadata": {},
   "outputs": [
    {
     "data": {
      "text/plain": [
       "GaussianNB()"
      ]
     },
     "execution_count": 73,
     "metadata": {},
     "output_type": "execute_result"
    }
   ],
   "source": [
    "model.fit(X_train,Y_train)"
   ]
  },
  {
   "cell_type": "code",
   "execution_count": 74,
   "id": "87b893fa",
   "metadata": {},
   "outputs": [
    {
     "data": {
      "text/plain": [
       "GaussianNB()"
      ]
     },
     "execution_count": 74,
     "metadata": {},
     "output_type": "execute_result"
    }
   ],
   "source": [
    "GaussianNB()"
   ]
  },
  {
   "cell_type": "code",
   "execution_count": 75,
   "id": "d1cfd32a",
   "metadata": {},
   "outputs": [
    {
     "data": {
      "text/plain": [
       "0.8759347694891239"
      ]
     },
     "execution_count": 75,
     "metadata": {},
     "output_type": "execute_result"
    }
   ],
   "source": [
    "model.score(X_test,Y_test)"
   ]
  },
  {
   "cell_type": "code",
   "execution_count": 76,
   "id": "32ac30b0",
   "metadata": {},
   "outputs": [],
   "source": [
    "#X_test[0:10]"
   ]
  },
  {
   "cell_type": "code",
   "execution_count": 77,
   "id": "92971dc5",
   "metadata": {},
   "outputs": [],
   "source": [
    "#Y_test[0:10]"
   ]
  },
  {
   "cell_type": "code",
   "execution_count": 78,
   "id": "0b99024a",
   "metadata": {},
   "outputs": [],
   "source": [
    "#All Data\n",
    "NB_predict=model.predict(X_test)"
   ]
  },
  {
   "cell_type": "code",
   "execution_count": 79,
   "id": "566f089e",
   "metadata": {},
   "outputs": [
    {
     "data": {
      "text/plain": [
       "array([0, 0, 0, 0, 0, 0, 0, 0, 0, 0])"
      ]
     },
     "execution_count": 79,
     "metadata": {},
     "output_type": "execute_result"
    }
   ],
   "source": [
    "#Using just the first 10 elements\n",
    "#model.predict(X_test[0:10])\n",
    "NB_predict[:10]"
   ]
  },
  {
   "cell_type": "code",
   "execution_count": 80,
   "id": "2cc834ef",
   "metadata": {},
   "outputs": [],
   "source": [
    "#Predict the probability for the variables of our Data\n",
    "NB_probability=model.predict_proba(X_test)"
   ]
  },
  {
   "cell_type": "code",
   "execution_count": 81,
   "id": "58062dde",
   "metadata": {},
   "outputs": [
    {
     "data": {
      "text/plain": [
       "array([[0.876977  , 0.123023  ],\n",
       "       [0.84118554, 0.15881446],\n",
       "       [0.94923839, 0.05076161],\n",
       "       [0.78187377, 0.21812623],\n",
       "       [0.78340685, 0.21659315],\n",
       "       [0.88719232, 0.11280768],\n",
       "       [0.93707973, 0.06292027],\n",
       "       [0.69127583, 0.30872417],\n",
       "       [0.91317887, 0.08682113],\n",
       "       [0.87250924, 0.12749076]])"
      ]
     },
     "execution_count": 81,
     "metadata": {},
     "output_type": "execute_result"
    }
   ],
   "source": [
    "#Showing the first 10 elements only\n",
    "#model.predict_proba(X_test[:10])\n",
    "NB_probability[:10]"
   ]
  },
  {
   "cell_type": "code",
   "execution_count": 82,
   "id": "4694a6c7",
   "metadata": {},
   "outputs": [],
   "source": [
    "#Calculate the score using cross validation\n",
    "#from sklearn.model_selection import cross_val_score\n",
    "#cross_val_score(GaussianNB(),X_train, Y_train, cv=5)"
   ]
  },
  {
   "cell_type": "code",
   "execution_count": 83,
   "id": "4dd0b6c8",
   "metadata": {},
   "outputs": [
    {
     "name": "stdout",
     "output_type": "stream",
     "text": [
      "              precision    recall  f1-score   support\n",
      "\n",
      "           0       0.88      1.00      0.93    133635\n",
      "           1       0.30      0.00      0.01     18809\n",
      "\n",
      "    accuracy                           0.88    152444\n",
      "   macro avg       0.59      0.50      0.47    152444\n",
      "weighted avg       0.81      0.88      0.82    152444\n",
      "\n"
     ]
    }
   ],
   "source": [
    "#printing the classification report of the model\n",
    "print(classification_report(Y_test , NB_predict))"
   ]
  },
  {
   "cell_type": "markdown",
   "id": "c3e29980",
   "metadata": {},
   "source": [
    "### Naive Bayes with ML Spark "
   ]
  },
  {
   "cell_type": "code",
   "execution_count": 84,
   "id": "5ccbed95",
   "metadata": {},
   "outputs": [],
   "source": [
    "from pyspark.ml.classification import NaiveBayes"
   ]
  },
  {
   "cell_type": "code",
   "execution_count": 85,
   "id": "215f7523",
   "metadata": {},
   "outputs": [],
   "source": [
    "NB = NaiveBayes()"
   ]
  },
  {
   "cell_type": "code",
   "execution_count": 86,
   "id": "4fa040b2",
   "metadata": {},
   "outputs": [],
   "source": [
    "NBmodel = NB.fit(train)"
   ]
  },
  {
   "cell_type": "code",
   "execution_count": 87,
   "id": "6f0555fd",
   "metadata": {},
   "outputs": [
    {
     "data": {
      "text/html": [
       "<table border='1'>\n",
       "<tr><th>features</th><th>label</th><th>rawPrediction</th><th>probability</th><th>prediction</th></tr>\n",
       "<tr><td>(13,[0,1,4,5,6,8,...</td><td>0</td><td>[-1624.4286125114...</td><td>[1.0,3.8344637827...</td><td>0.0</td></tr>\n",
       "<tr><td>(13,[0,1,4,5,6,9,...</td><td>0</td><td>[-875.95484366412...</td><td>[0.99999936209569...</td><td>0.0</td></tr>\n",
       "<tr><td>(13,[0,1,4,5,6,9,...</td><td>0</td><td>[-1712.3876930229...</td><td>[0.99999541162633...</td><td>0.0</td></tr>\n",
       "<tr><td>(13,[0,1,4,5,6,9,...</td><td>0</td><td>[-2150.2072286053...</td><td>[0.99999999999999...</td><td>0.0</td></tr>\n",
       "<tr><td>(13,[0,1,4,5,6,9,...</td><td>0</td><td>[-2358.7592537747...</td><td>[1.0,4.3446677903...</td><td>0.0</td></tr>\n",
       "<tr><td>(13,[0,1,4,5,6,9,...</td><td>0</td><td>[-2060.0000614473...</td><td>[1.0,1.0683001927...</td><td>0.0</td></tr>\n",
       "<tr><td>(13,[0,1,4,5,6,9,...</td><td>0</td><td>[-1590.9312923083...</td><td>[0.99999997992960...</td><td>0.0</td></tr>\n",
       "<tr><td>(13,[0,1,4,5,6,9,...</td><td>0</td><td>[-1461.9789846717...</td><td>[0.99996158132253...</td><td>0.0</td></tr>\n",
       "<tr><td>(13,[0,1,4,5,6,9,...</td><td>0</td><td>[-1934.4041651680...</td><td>[0.99999999951553...</td><td>0.0</td></tr>\n",
       "<tr><td>(13,[0,1,4,5,6,9,...</td><td>0</td><td>[-874.47122248874...</td><td>[0.99326585673025...</td><td>0.0</td></tr>\n",
       "<tr><td>(13,[0,1,4,5,6,9,...</td><td>0</td><td>[-2058.1553760719...</td><td>[0.99999914010010...</td><td>0.0</td></tr>\n",
       "<tr><td>(13,[0,1,4,5,6,9,...</td><td>0</td><td>[-1434.0180371420...</td><td>[0.99999999999989...</td><td>0.0</td></tr>\n",
       "<tr><td>(13,[0,1,4,5,6,9,...</td><td>0</td><td>[-1850.5207779483...</td><td>[0.99998507010088...</td><td>0.0</td></tr>\n",
       "<tr><td>(13,[0,1,4,5,6,9,...</td><td>0</td><td>[-618.36601036648...</td><td>[0.82472100857301...</td><td>0.0</td></tr>\n",
       "<tr><td>(13,[0,1,4,5,6,9,...</td><td>0</td><td>[-1864.1994752667...</td><td>[0.99998564925475...</td><td>0.0</td></tr>\n",
       "<tr><td>(13,[0,1,4,5,6,9,...</td><td>0</td><td>[-851.65715633613...</td><td>[0.94253105843006...</td><td>0.0</td></tr>\n",
       "<tr><td>(13,[0,1,4,5,6,9,...</td><td>0</td><td>[-2013.9236543711...</td><td>[0.99992054696295...</td><td>0.0</td></tr>\n",
       "<tr><td>(13,[0,2,4,5,6,9,...</td><td>0</td><td>[-1516.1855405986...</td><td>[0.96878043116385...</td><td>0.0</td></tr>\n",
       "<tr><td>(13,[0,2,4,5,6,9,...</td><td>0</td><td>[-1301.4818797880...</td><td>[2.71341373929271...</td><td>1.0</td></tr>\n",
       "<tr><td>(13,[0,2,4,5,6,9,...</td><td>0</td><td>[-1864.1714976940...</td><td>[0.99960076646129...</td><td>0.0</td></tr>\n",
       "</table>\n",
       "only showing top 20 rows\n"
      ],
      "text/plain": [
       "+--------------------+-----+--------------------+--------------------+----------+\n",
       "|            features|label|       rawPrediction|         probability|prediction|\n",
       "+--------------------+-----+--------------------+--------------------+----------+\n",
       "|(13,[0,1,4,5,6,8,...|    0|[-1624.4286125114...|[1.0,3.8344637827...|       0.0|\n",
       "|(13,[0,1,4,5,6,9,...|    0|[-875.95484366412...|[0.99999936209569...|       0.0|\n",
       "|(13,[0,1,4,5,6,9,...|    0|[-1712.3876930229...|[0.99999541162633...|       0.0|\n",
       "|(13,[0,1,4,5,6,9,...|    0|[-2150.2072286053...|[0.99999999999999...|       0.0|\n",
       "|(13,[0,1,4,5,6,9,...|    0|[-2358.7592537747...|[1.0,4.3446677903...|       0.0|\n",
       "|(13,[0,1,4,5,6,9,...|    0|[-2060.0000614473...|[1.0,1.0683001927...|       0.0|\n",
       "|(13,[0,1,4,5,6,9,...|    0|[-1590.9312923083...|[0.99999997992960...|       0.0|\n",
       "|(13,[0,1,4,5,6,9,...|    0|[-1461.9789846717...|[0.99996158132253...|       0.0|\n",
       "|(13,[0,1,4,5,6,9,...|    0|[-1934.4041651680...|[0.99999999951553...|       0.0|\n",
       "|(13,[0,1,4,5,6,9,...|    0|[-874.47122248874...|[0.99326585673025...|       0.0|\n",
       "|(13,[0,1,4,5,6,9,...|    0|[-2058.1553760719...|[0.99999914010010...|       0.0|\n",
       "|(13,[0,1,4,5,6,9,...|    0|[-1434.0180371420...|[0.99999999999989...|       0.0|\n",
       "|(13,[0,1,4,5,6,9,...|    0|[-1850.5207779483...|[0.99998507010088...|       0.0|\n",
       "|(13,[0,1,4,5,6,9,...|    0|[-618.36601036648...|[0.82472100857301...|       0.0|\n",
       "|(13,[0,1,4,5,6,9,...|    0|[-1864.1994752667...|[0.99998564925475...|       0.0|\n",
       "|(13,[0,1,4,5,6,9,...|    0|[-851.65715633613...|[0.94253105843006...|       0.0|\n",
       "|(13,[0,1,4,5,6,9,...|    0|[-2013.9236543711...|[0.99992054696295...|       0.0|\n",
       "|(13,[0,2,4,5,6,9,...|    0|[-1516.1855405986...|[0.96878043116385...|       0.0|\n",
       "|(13,[0,2,4,5,6,9,...|    0|[-1301.4818797880...|[2.71341373929271...|       1.0|\n",
       "|(13,[0,2,4,5,6,9,...|    0|[-1864.1714976940...|[0.99960076646129...|       0.0|\n",
       "+--------------------+-----+--------------------+--------------------+----------+\n",
       "only showing top 20 rows"
      ]
     },
     "execution_count": 87,
     "metadata": {},
     "output_type": "execute_result"
    }
   ],
   "source": [
    "NBpredictions = NBmodel.transform(test)\n",
    "NBpredictions"
   ]
  },
  {
   "cell_type": "markdown",
   "id": "04509d76",
   "metadata": {},
   "source": [
    "## SVM Model"
   ]
  },
  {
   "cell_type": "markdown",
   "id": "4ced2a14",
   "metadata": {},
   "source": [
    "### Using SCIKIT-LEARN "
   ]
  },
  {
   "cell_type": "code",
   "execution_count": 88,
   "id": "e15ee741",
   "metadata": {},
   "outputs": [],
   "source": [
    "from sklearn.svm import LinearSVC\n",
    "from sklearn.pipeline import make_pipeline\n",
    "from sklearn.preprocessing import StandardScaler\n",
    "from sklearn.datasets import make_classification"
   ]
  },
  {
   "cell_type": "code",
   "execution_count": 89,
   "id": "1e588270",
   "metadata": {},
   "outputs": [],
   "source": [
    "#Generating the SVM model \n",
    "SVM_Classifier = make_pipeline(StandardScaler(),LinearSVC(random_state=0, tol=1e-5,max_iter=1000))"
   ]
  },
  {
   "cell_type": "code",
   "execution_count": 90,
   "id": "f281e9ee",
   "metadata": {},
   "outputs": [
    {
     "name": "stderr",
     "output_type": "stream",
     "text": [
      "C:\\ProgramData\\Anaconda3\\lib\\site-packages\\sklearn\\svm\\_base.py:985: ConvergenceWarning: Liblinear failed to converge, increase the number of iterations.\n",
      "  warnings.warn(\"Liblinear failed to converge, increase \"\n"
     ]
    },
    {
     "data": {
      "text/plain": [
       "Pipeline(steps=[('standardscaler', StandardScaler()),\n",
       "                ('linearsvc', LinearSVC(random_state=0, tol=1e-05))])"
      ]
     },
     "execution_count": 90,
     "metadata": {},
     "output_type": "execute_result"
    }
   ],
   "source": [
    "#fiting the training data\n",
    "SVM_Classifier.fit(X_train,Y_train)"
   ]
  },
  {
   "cell_type": "code",
   "execution_count": 91,
   "id": "d238f51a",
   "metadata": {},
   "outputs": [],
   "source": [
    "#predict the response for the X_test data\n",
    "SVM_predict = SVM_Classifier.predict( X_test )"
   ]
  },
  {
   "cell_type": "code",
   "execution_count": 92,
   "id": "aa530aa2",
   "metadata": {},
   "outputs": [
    {
     "name": "stdout",
     "output_type": "stream",
     "text": [
      "accuracy :  0.8766104274356485\n"
     ]
    }
   ],
   "source": [
    "from sklearn.metrics import accuracy_score\n",
    "#printing the accuracy score of the model\n",
    "print(\"accuracy : \" ,accuracy_score(Y_test , SVM_predict))"
   ]
  },
  {
   "cell_type": "code",
   "execution_count": 93,
   "id": "f0326a08",
   "metadata": {},
   "outputs": [
    {
     "name": "stdout",
     "output_type": "stream",
     "text": [
      "              precision    recall  f1-score   support\n",
      "\n",
      "           0       0.88      1.00      0.93    133635\n",
      "           1       0.00      0.00      0.00     18809\n",
      "\n",
      "    accuracy                           0.88    152444\n",
      "   macro avg       0.44      0.50      0.47    152444\n",
      "weighted avg       0.77      0.88      0.82    152444\n",
      "\n"
     ]
    }
   ],
   "source": [
    "#printing the classification report of the model\n",
    "print(classification_report(Y_test , SVM_predict))"
   ]
  },
  {
   "cell_type": "code",
   "execution_count": 94,
   "id": "a7a9892f",
   "metadata": {},
   "outputs": [],
   "source": [
    "from sklearn.metrics import confusion_matrix"
   ]
  },
  {
   "cell_type": "code",
   "execution_count": 95,
   "id": "03c819d0",
   "metadata": {
    "scrolled": true
   },
   "outputs": [
    {
     "name": "stdout",
     "output_type": "stream",
     "text": [
      "[[133634      1]\n",
      " [ 18809      0]]\n"
     ]
    }
   ],
   "source": [
    "print(confusion_matrix(Y_test,SVM_predict))"
   ]
  },
  {
   "cell_type": "markdown",
   "id": "78f6b636",
   "metadata": {},
   "source": [
    "### Using ML library of SPARK"
   ]
  },
  {
   "cell_type": "code",
   "execution_count": 96,
   "id": "78877b5c",
   "metadata": {},
   "outputs": [],
   "source": [
    "from pyspark.ml.feature import VectorAssembler\n",
    "assembler=VectorAssembler(inputCols=['Age', 'Driving_License', 'Region_Code', 'Previously_Insured', 'Annual_Premium', 'Policy_Sales_Channel', 'Vintage', 'Vehicle_Damage01', 'Vehicle_Age< 1 Year', 'Vehicle_Age1-2 Year', 'Vehicle_Age> 2 Years', 'Female', 'Male'],outputCol='features')"
   ]
  },
  {
   "cell_type": "code",
   "execution_count": 97,
   "id": "15e69ddd",
   "metadata": {},
   "outputs": [],
   "source": [
    "df_final = assembler.transform(numerical_DF)"
   ]
  },
  {
   "cell_type": "code",
   "execution_count": 98,
   "id": "e98b4999",
   "metadata": {},
   "outputs": [
    {
     "data": {
      "text/html": [
       "<table border='1'>\n",
       "<tr><th>id</th><th>Age</th><th>Driving_License</th><th>Region_Code</th><th>Previously_Insured</th><th>Annual_Premium</th><th>Policy_Sales_Channel</th><th>Vintage</th><th>Response</th><th>Vehicle_Damage01</th><th>Vehicle_Age&lt; 1 Year</th><th>Vehicle_Age1-2 Year</th><th>Vehicle_Age&gt; 2 Years</th><th>Female</th><th>Male</th><th>features</th></tr>\n",
       "<tr><td>1</td><td>44</td><td>1</td><td>28.0</td><td>0</td><td>40454.0</td><td>26.0</td><td>217</td><td>1</td><td>1</td><td>0</td><td>0</td><td>1</td><td>0</td><td>1</td><td>[44.0,1.0,28.0,0....</td></tr>\n",
       "<tr><td>2</td><td>76</td><td>1</td><td>3.0</td><td>0</td><td>33536.0</td><td>26.0</td><td>183</td><td>0</td><td>0</td><td>0</td><td>1</td><td>0</td><td>0</td><td>1</td><td>[76.0,1.0,3.0,0.0...</td></tr>\n",
       "<tr><td>3</td><td>47</td><td>1</td><td>28.0</td><td>0</td><td>38294.0</td><td>26.0</td><td>27</td><td>1</td><td>1</td><td>0</td><td>0</td><td>1</td><td>0</td><td>1</td><td>[47.0,1.0,28.0,0....</td></tr>\n",
       "<tr><td>4</td><td>21</td><td>1</td><td>11.0</td><td>1</td><td>28619.0</td><td>152.0</td><td>203</td><td>0</td><td>0</td><td>1</td><td>0</td><td>0</td><td>0</td><td>1</td><td>[21.0,1.0,11.0,1....</td></tr>\n",
       "<tr><td>5</td><td>29</td><td>1</td><td>41.0</td><td>1</td><td>27496.0</td><td>152.0</td><td>39</td><td>0</td><td>0</td><td>1</td><td>0</td><td>0</td><td>1</td><td>0</td><td>[29.0,1.0,41.0,1....</td></tr>\n",
       "</table>\n"
      ],
      "text/plain": [
       "+---+---+---------------+-----------+------------------+--------------+--------------------+-------+--------+----------------+-------------------+-------------------+--------------------+------+----+--------------------+\n",
       "| id|Age|Driving_License|Region_Code|Previously_Insured|Annual_Premium|Policy_Sales_Channel|Vintage|Response|Vehicle_Damage01|Vehicle_Age< 1 Year|Vehicle_Age1-2 Year|Vehicle_Age> 2 Years|Female|Male|            features|\n",
       "+---+---+---------------+-----------+------------------+--------------+--------------------+-------+--------+----------------+-------------------+-------------------+--------------------+------+----+--------------------+\n",
       "|  1| 44|              1|       28.0|                 0|       40454.0|                26.0|    217|       1|               1|                  0|                  0|                   1|     0|   1|[44.0,1.0,28.0,0....|\n",
       "|  2| 76|              1|        3.0|                 0|       33536.0|                26.0|    183|       0|               0|                  0|                  1|                   0|     0|   1|[76.0,1.0,3.0,0.0...|\n",
       "|  3| 47|              1|       28.0|                 0|       38294.0|                26.0|     27|       1|               1|                  0|                  0|                   1|     0|   1|[47.0,1.0,28.0,0....|\n",
       "|  4| 21|              1|       11.0|                 1|       28619.0|               152.0|    203|       0|               0|                  1|                  0|                   0|     0|   1|[21.0,1.0,11.0,1....|\n",
       "|  5| 29|              1|       41.0|                 1|       27496.0|               152.0|     39|       0|               0|                  1|                  0|                   0|     1|   0|[29.0,1.0,41.0,1....|\n",
       "+---+---+---------------+-----------+------------------+--------------+--------------------+-------+--------+----------------+-------------------+-------------------+--------------------+------+----+--------------------+"
      ]
     },
     "execution_count": 98,
     "metadata": {},
     "output_type": "execute_result"
    }
   ],
   "source": [
    "df_final.limit(5)"
   ]
  },
  {
   "cell_type": "code",
   "execution_count": 99,
   "id": "afe040db",
   "metadata": {},
   "outputs": [],
   "source": [
    "dataset1 = df_final.select('features','Response')\n",
    "dataset2 = dataset1.withColumnRenamed(\"Response\", \"label\")"
   ]
  },
  {
   "cell_type": "code",
   "execution_count": 100,
   "id": "85bf2498",
   "metadata": {},
   "outputs": [],
   "source": [
    "train,test = dataset2.randomSplit([0.7,0.3])"
   ]
  },
  {
   "cell_type": "code",
   "execution_count": 101,
   "id": "4138ec49",
   "metadata": {},
   "outputs": [],
   "source": [
    "from pyspark.ml.classification import LinearSVC"
   ]
  },
  {
   "cell_type": "code",
   "execution_count": 102,
   "id": "5c135e59",
   "metadata": {},
   "outputs": [],
   "source": [
    "LSVC = LinearSVC(maxIter=10, regParam=0.1)"
   ]
  },
  {
   "cell_type": "code",
   "execution_count": 103,
   "id": "4a4d43a9",
   "metadata": {},
   "outputs": [],
   "source": [
    "LSVCmodel = LSVC.fit(train)"
   ]
  },
  {
   "cell_type": "code",
   "execution_count": 104,
   "id": "6744dd3d",
   "metadata": {},
   "outputs": [
    {
     "data": {
      "text/html": [
       "<table border='1'>\n",
       "<tr><th>features</th><th>label</th><th>rawPrediction</th><th>prediction</th></tr>\n",
       "<tr><td>(13,[0,1,4,5,6,9,...</td><td>0</td><td>[1.32583247045928...</td><td>0.0</td></tr>\n",
       "<tr><td>(13,[0,1,4,5,6,9,...</td><td>0</td><td>[1.32775529844165...</td><td>0.0</td></tr>\n",
       "<tr><td>(13,[0,1,4,5,6,9,...</td><td>0</td><td>[1.32886945071393...</td><td>0.0</td></tr>\n",
       "<tr><td>(13,[0,1,4,5,6,9,...</td><td>0</td><td>[1.33327016547218...</td><td>0.0</td></tr>\n",
       "<tr><td>(13,[0,1,4,5,6,9,...</td><td>0</td><td>[1.33460602204155...</td><td>0.0</td></tr>\n",
       "<tr><td>(13,[0,1,4,5,6,9,...</td><td>0</td><td>[1.33467652191121...</td><td>0.0</td></tr>\n",
       "<tr><td>(13,[0,1,4,5,6,9,...</td><td>0</td><td>[1.34020376110334...</td><td>0.0</td></tr>\n",
       "<tr><td>(13,[0,1,4,5,6,9,...</td><td>0</td><td>[1.32601579271270...</td><td>0.0</td></tr>\n",
       "<tr><td>(13,[0,1,4,5,6,9,...</td><td>0</td><td>[1.32855052232940...</td><td>0.0</td></tr>\n",
       "<tr><td>(13,[0,1,4,5,6,9,...</td><td>0</td><td>[1.32917893899202...</td><td>0.0</td></tr>\n",
       "<tr><td>(13,[0,1,4,5,6,9,...</td><td>0</td><td>[1.33012066956672...</td><td>0.0</td></tr>\n",
       "<tr><td>(13,[0,1,4,5,6,9,...</td><td>0</td><td>[1.33122956087859...</td><td>0.0</td></tr>\n",
       "<tr><td>(13,[0,1,4,5,6,9,...</td><td>0</td><td>[1.33124949993649...</td><td>0.0</td></tr>\n",
       "<tr><td>(13,[0,1,4,5,6,9,...</td><td>0</td><td>[1.33398144816768...</td><td>0.0</td></tr>\n",
       "<tr><td>(13,[0,1,4,5,6,9,...</td><td>0</td><td>[1.33693979777983...</td><td>0.0</td></tr>\n",
       "<tr><td>(13,[0,1,4,5,6,9,...</td><td>0</td><td>[1.33883953978328...</td><td>0.0</td></tr>\n",
       "<tr><td>(13,[0,1,4,5,6,9,...</td><td>0</td><td>[1.34848103068878...</td><td>0.0</td></tr>\n",
       "<tr><td>(13,[0,1,4,5,6,9,...</td><td>0</td><td>[1.34865635997514...</td><td>0.0</td></tr>\n",
       "<tr><td>(13,[0,1,4,5,6,9,...</td><td>0</td><td>[1.34915334965269...</td><td>0.0</td></tr>\n",
       "<tr><td>(13,[0,1,4,5,6,9,...</td><td>0</td><td>[1.35151022252626...</td><td>0.0</td></tr>\n",
       "</table>\n",
       "only showing top 20 rows\n"
      ],
      "text/plain": [
       "+--------------------+-----+--------------------+----------+\n",
       "|            features|label|       rawPrediction|prediction|\n",
       "+--------------------+-----+--------------------+----------+\n",
       "|(13,[0,1,4,5,6,9,...|    0|[1.32583247045928...|       0.0|\n",
       "|(13,[0,1,4,5,6,9,...|    0|[1.32775529844165...|       0.0|\n",
       "|(13,[0,1,4,5,6,9,...|    0|[1.32886945071393...|       0.0|\n",
       "|(13,[0,1,4,5,6,9,...|    0|[1.33327016547218...|       0.0|\n",
       "|(13,[0,1,4,5,6,9,...|    0|[1.33460602204155...|       0.0|\n",
       "|(13,[0,1,4,5,6,9,...|    0|[1.33467652191121...|       0.0|\n",
       "|(13,[0,1,4,5,6,9,...|    0|[1.34020376110334...|       0.0|\n",
       "|(13,[0,1,4,5,6,9,...|    0|[1.32601579271270...|       0.0|\n",
       "|(13,[0,1,4,5,6,9,...|    0|[1.32855052232940...|       0.0|\n",
       "|(13,[0,1,4,5,6,9,...|    0|[1.32917893899202...|       0.0|\n",
       "|(13,[0,1,4,5,6,9,...|    0|[1.33012066956672...|       0.0|\n",
       "|(13,[0,1,4,5,6,9,...|    0|[1.33122956087859...|       0.0|\n",
       "|(13,[0,1,4,5,6,9,...|    0|[1.33124949993649...|       0.0|\n",
       "|(13,[0,1,4,5,6,9,...|    0|[1.33398144816768...|       0.0|\n",
       "|(13,[0,1,4,5,6,9,...|    0|[1.33693979777983...|       0.0|\n",
       "|(13,[0,1,4,5,6,9,...|    0|[1.33883953978328...|       0.0|\n",
       "|(13,[0,1,4,5,6,9,...|    0|[1.34848103068878...|       0.0|\n",
       "|(13,[0,1,4,5,6,9,...|    0|[1.34865635997514...|       0.0|\n",
       "|(13,[0,1,4,5,6,9,...|    0|[1.34915334965269...|       0.0|\n",
       "|(13,[0,1,4,5,6,9,...|    0|[1.35151022252626...|       0.0|\n",
       "+--------------------+-----+--------------------+----------+\n",
       "only showing top 20 rows"
      ]
     },
     "execution_count": 104,
     "metadata": {},
     "output_type": "execute_result"
    }
   ],
   "source": [
    "LSVCpredictions = LSVCmodel.transform(test)\n",
    "LSVCpredictions"
   ]
  },
  {
   "cell_type": "markdown",
   "id": "6124a2ea",
   "metadata": {},
   "source": [
    "# EVALUATING MODELS : Logistic Regression / Naive Bayes / SVM"
   ]
  },
  {
   "cell_type": "code",
   "execution_count": 105,
   "id": "a4d3d05f",
   "metadata": {},
   "outputs": [],
   "source": [
    "from pyspark.ml.evaluation import MulticlassClassificationEvaluator"
   ]
  },
  {
   "cell_type": "code",
   "execution_count": 106,
   "id": "e9e7e030",
   "metadata": {},
   "outputs": [
    {
     "name": "stdout",
     "output_type": "stream",
     "text": [
      "Precision :  0.8784791752288845\n"
     ]
    }
   ],
   "source": [
    "#LOGISTIC REGRESSION\n",
    "evaluator = MulticlassClassificationEvaluator(labelCol=\"label\",predictionCol=\"prediction\")\n",
    "accuracy=evaluator.evaluate(LRpredictions,{evaluator.metricName:\"accuracy\"})\n",
    "print('Precision : ',accuracy )"
   ]
  },
  {
   "cell_type": "code",
   "execution_count": 107,
   "id": "0224afa5",
   "metadata": {},
   "outputs": [
    {
     "name": "stdout",
     "output_type": "stream",
     "text": [
      "Precision :  0.6674157696377198\n"
     ]
    }
   ],
   "source": [
    "#NAIVE BAYES\n",
    "evaluator = MulticlassClassificationEvaluator(labelCol=\"label\",predictionCol=\"prediction\")\n",
    "accuracy=evaluator.evaluate(NBpredictions,{evaluator.metricName:\"accuracy\"})\n",
    "print('Precision : ',accuracy )"
   ]
  },
  {
   "cell_type": "code",
   "execution_count": 108,
   "id": "1b834f37",
   "metadata": {},
   "outputs": [
    {
     "name": "stdout",
     "output_type": "stream",
     "text": [
      "Precision :  0.8768728390318863\n"
     ]
    }
   ],
   "source": [
    "#SUPPORT VECTOR MACHINE SVM\n",
    "evaluator = MulticlassClassificationEvaluator(labelCol=\"label\",predictionCol=\"prediction\")\n",
    "accuracy=evaluator.evaluate(LSVCpredictions,{evaluator.metricName:\"accuracy\"})\n",
    "print('Precision : ',accuracy )"
   ]
  },
  {
   "cell_type": "markdown",
   "id": "a71575df",
   "metadata": {},
   "source": [
    "#### We can notice that the accuracy of the Naive Bayes is the smalest one, and here we can eleminate it from our best classification models list of this dataframe, and we also see that the logistic regression is the one with the highest precision comparing to the SVM Model one with a small value difference between them, so we can conclude that the Logistic Regression is the best model between all of these tree models.  "
   ]
  }
 ],
 "metadata": {
  "kernelspec": {
   "display_name": "Python 3",
   "language": "python",
   "name": "python3"
  },
  "language_info": {
   "codemirror_mode": {
    "name": "ipython",
    "version": 3
   },
   "file_extension": ".py",
   "mimetype": "text/x-python",
   "name": "python",
   "nbconvert_exporter": "python",
   "pygments_lexer": "ipython3",
   "version": "3.8.8"
  }
 },
 "nbformat": 4,
 "nbformat_minor": 5
}
